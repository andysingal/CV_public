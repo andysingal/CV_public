{
 "cells": [
  {
   "cell_type": "markdown",
   "id": "e187c32b-6ff5-4383-a561-6dc7a2e1ba87",
   "metadata": {},
   "source": [
    "# Oriented Bounding Boxes Object Detection Using YOLOv8\n",
    "\n",
    "\n",
    "##### Dataset format: \n",
    "\n",
    "##### OBB dataset format can be found in detail in the Dataset Guide : https://docs.ultralytics.com/datasets/obb/\n",
    "\n",
    "###### YOLO OBB format designates bounding boxes by their four corner points with coordinates normalized between 0 and 1\n",
    "\n",
    "###### class_index, x1, y1, x2, y2, x3, y3, x4, y4\n",
    "\n",
    "#### Example annotation record:\n",
    "\n",
    "###### 0 0.710452 0.437659 0.738323 0.433479 0.74529 0.448564 0.723871 0.454744\n"
   ]
  },
  {
   "cell_type": "code",
   "execution_count": 25,
   "id": "c995f436-d89b-42a6-8e08-8a0e8feb9682",
   "metadata": {},
   "outputs": [
    {
     "data": {
      "text/plain": [
       "'8.1.19'"
      ]
     },
     "execution_count": 25,
     "metadata": {},
     "output_type": "execute_result"
    }
   ],
   "source": [
    "import ultralytics\n",
    "ultralytics.__version__"
   ]
  },
  {
   "cell_type": "markdown",
   "id": "fac51880-2143-4c38-8837-9a1daf0ba966",
   "metadata": {},
   "source": [
    "# Use pretrained model for detections  (yolov8n-obb.pt)"
   ]
  },
  {
   "cell_type": "code",
   "execution_count": 4,
   "id": "ce73a320-5216-489a-bbf6-5a667f5e3ee4",
   "metadata": {},
   "outputs": [
    {
     "name": "stdout",
     "output_type": "stream",
     "text": [
      "\n",
      "image 1/1 D:\\yolov8v1_env\\oriented_bounding_boxes\\test_images\\a.jpg: 480x640 177.0ms\n",
      "Speed: 2.0ms preprocess, 177.0ms inference, 5.0ms postprocess per image at shape (1, 3, 480, 640)\n",
      "Results saved to \u001b[1mruns\\obb\\predict10\u001b[0m\n"
     ]
    }
   ],
   "source": [
    "from ultralytics import YOLO\n",
    "\n",
    "# Load a model\n",
    "model = YOLO('yolov8x-obb.pt')  # load an official model\n",
    "\n",
    "# Predict with the model\n",
    "results = model('test_images/a.jpg',imgsz=640, save=True)  # predict on an image\n"
   ]
  },
  {
   "cell_type": "code",
   "execution_count": 28,
   "id": "b9c56c4d-11d3-4383-899c-c29f36396bd4",
   "metadata": {},
   "outputs": [
    {
     "name": "stdout",
     "output_type": "stream",
     "text": [
      "\n",
      "image 1/1 D:\\yolov8v1_env\\oriented_bounding_boxes\\test_images\\a.jpg: 480x640 7 airplanes, 10.0ms\n",
      "Speed: 2.0ms preprocess, 10.0ms inference, 1.0ms postprocess per image at shape (1, 3, 480, 640)\n",
      "Results saved to \u001b[1mruns\\detect\\predict3\u001b[0m\n"
     ]
    }
   ],
   "source": [
    "from ultralytics import YOLO\n",
    "\n",
    "# Load a model\n",
    "model = YOLO('yolov8l.pt')  # load an official model\n",
    "\n",
    "# Predict with the model\n",
    "results = model('test_images/a.jpg',imgsz=640, save=True)  # predict on an image"
   ]
  },
  {
   "cell_type": "markdown",
   "id": "187377fd-2a23-4490-a33a-62c8ad2893bf",
   "metadata": {},
   "source": [
    "# Training the model from scratch on DOTA dataset"
   ]
  },
  {
   "cell_type": "code",
   "execution_count": 4,
   "id": "42409d01-1c5e-4583-b123-230254bb6551",
   "metadata": {},
   "outputs": [
    {
     "name": "stdout",
     "output_type": "stream",
     "text": [
      "Ultralytics YOLOv8.1.19 🚀 Python-3.11.6 torch-2.1.2+cu118 CUDA:0 (NVIDIA GeForce RTX 3090, 24576MiB)\n",
      "\u001b[34m\u001b[1mengine\\trainer: \u001b[0mtask=obb, mode=train, model=yolov8n-obb.pt, data=DOTAv1.yaml, epochs=100, time=None, patience=100, batch=16, imgsz=640, save=True, save_period=-1, cache=False, device=None, workers=8, project=None, name=train, exist_ok=False, pretrained=True, optimizer=auto, verbose=True, seed=0, deterministic=True, single_cls=False, rect=False, cos_lr=False, close_mosaic=10, resume=False, amp=True, fraction=1.0, profile=False, freeze=None, multi_scale=False, overlap_mask=True, mask_ratio=4, dropout=0.0, val=True, split=val, save_json=False, save_hybrid=False, conf=None, iou=0.7, max_det=300, half=False, dnn=False, plots=True, source=None, vid_stride=1, stream_buffer=False, visualize=False, augment=False, agnostic_nms=False, classes=None, retina_masks=False, embed=None, show=False, save_frames=False, save_txt=False, save_conf=False, save_crop=False, show_labels=True, show_conf=True, show_boxes=True, line_width=None, format=torchscript, keras=False, optimize=False, int8=False, dynamic=False, simplify=False, opset=None, workspace=4, nms=False, lr0=0.01, lrf=0.01, momentum=0.937, weight_decay=0.0005, warmup_epochs=3.0, warmup_momentum=0.8, warmup_bias_lr=0.1, box=7.5, cls=0.5, dfl=1.5, pose=12.0, kobj=1.0, label_smoothing=0.0, nbs=64, hsv_h=0.015, hsv_s=0.7, hsv_v=0.4, degrees=0.0, translate=0.1, scale=0.5, shear=0.0, perspective=0.0, flipud=0.0, fliplr=0.5, mosaic=1.0, mixup=0.0, copy_paste=0.0, auto_augment=randaugment, erasing=0.4, crop_fraction=1.0, cfg=None, tracker=botsort.yaml, save_dir=runs\\obb\\train\n",
      "\n",
      "                   from  n    params  module                                       arguments                     \n",
      "  0                  -1  1       464  ultralytics.nn.modules.conv.Conv             [3, 16, 3, 2]                 \n",
      "  1                  -1  1      4672  ultralytics.nn.modules.conv.Conv             [16, 32, 3, 2]                \n",
      "  2                  -1  1      7360  ultralytics.nn.modules.block.C2f             [32, 32, 1, True]             \n",
      "  3                  -1  1     18560  ultralytics.nn.modules.conv.Conv             [32, 64, 3, 2]                \n",
      "  4                  -1  2     49664  ultralytics.nn.modules.block.C2f             [64, 64, 2, True]             \n",
      "  5                  -1  1     73984  ultralytics.nn.modules.conv.Conv             [64, 128, 3, 2]               \n",
      "  6                  -1  2    197632  ultralytics.nn.modules.block.C2f             [128, 128, 2, True]           \n",
      "  7                  -1  1    295424  ultralytics.nn.modules.conv.Conv             [128, 256, 3, 2]              \n",
      "  8                  -1  1    460288  ultralytics.nn.modules.block.C2f             [256, 256, 1, True]           \n",
      "  9                  -1  1    164608  ultralytics.nn.modules.block.SPPF            [256, 256, 5]                 \n",
      " 10                  -1  1         0  torch.nn.modules.upsampling.Upsample         [None, 2, 'nearest']          \n",
      " 11             [-1, 6]  1         0  ultralytics.nn.modules.conv.Concat           [1]                           \n",
      " 12                  -1  1    148224  ultralytics.nn.modules.block.C2f             [384, 128, 1]                 \n",
      " 13                  -1  1         0  torch.nn.modules.upsampling.Upsample         [None, 2, 'nearest']          \n",
      " 14             [-1, 4]  1         0  ultralytics.nn.modules.conv.Concat           [1]                           \n",
      " 15                  -1  1     37248  ultralytics.nn.modules.block.C2f             [192, 64, 1]                  \n",
      " 16                  -1  1     36992  ultralytics.nn.modules.conv.Conv             [64, 64, 3, 2]                \n",
      " 17            [-1, 12]  1         0  ultralytics.nn.modules.conv.Concat           [1]                           \n",
      " 18                  -1  1    123648  ultralytics.nn.modules.block.C2f             [192, 128, 1]                 \n",
      " 19                  -1  1    147712  ultralytics.nn.modules.conv.Conv             [128, 128, 3, 2]              \n",
      " 20             [-1, 9]  1         0  ultralytics.nn.modules.conv.Concat           [1]                           \n",
      " 21                  -1  1    493056  ultralytics.nn.modules.block.C2f             [384, 256, 1]                 \n",
      " 22        [15, 18, 21]  1    825904  ultralytics.nn.modules.head.OBB              [15, 1, [64, 128, 256]]       \n",
      "YOLOv8n-obb summary: 250 layers, 3085440 parameters, 3085424 gradients, 8.5 GFLOPs\n",
      "\n",
      "Transferred 397/397 items from pretrained weights\n",
      "Freezing layer 'model.22.dfl.conv.weight'\n",
      "\u001b[34m\u001b[1mAMP: \u001b[0mrunning Automatic Mixed Precision (AMP) checks with YOLOv8n...\n",
      "\u001b[34m\u001b[1mAMP: \u001b[0mchecks passed ✅\n"
     ]
    },
    {
     "name": "stderr",
     "output_type": "stream",
     "text": [
      "\u001b[34m\u001b[1mtrain: \u001b[0mScanning D:\\yolov8v1_env\\oriented_bounding_boxes\\datasets\\DOTAv1\\labels\\train.cache... 1411 \u001b[0m"
     ]
    },
    {
     "name": "stdout",
     "output_type": "stream",
     "text": [
      "\u001b[34m\u001b[1mtrain: \u001b[0mWARNING ⚠️ D:\\yolov8v1_env\\oriented_bounding_boxes\\datasets\\DOTAv1\\images\\train\\P1872.jpg: ignoring corrupt image/label: non-normalized or out of bounds coordinates [     1.6534      1.8034      1.7907      1.7744      1.7483       1.723      1.6903      1.8182      1.6506      1.6087      1.6596       1.213        1.61      1.5594        1.51      1.5529      1.4456      1.4922      1.3925       1.364      1.3362       1.822      1.8426      1.8735      2.0144      2.2527\n",
      "       2.097      2.1098       2.178      2.2118      2.2618      2.2772      2.2437      2.1674      2.0553      2.0337      2.0154      1.9993       1.998      1.9395      1.8671      1.8864      1.9115      1.9278      1.2735      1.1513      1.2916      1.1644      1.1396      1.3352      1.4364      1.2961\n",
      "      1.1785      1.1532      1.2294      1.2884      1.3137       1.033      1.0843      1.0808      1.0927      1.0347      2.3171      2.2918      2.3637      2.4091       2.667      2.7528      2.7749      2.4934      2.4721      2.5177      2.5772        2.64       2.818      2.8019      2.8344      2.8832\n",
      "      2.8976      2.8004       2.751      2.6603      2.6152      2.5574]\n"
     ]
    },
    {
     "name": "stderr",
     "output_type": "stream",
     "text": [
      "\n",
      "\u001b[34m\u001b[1mval: \u001b[0mScanning D:\\yolov8v1_env\\oriented_bounding_boxes\\datasets\\DOTAv1\\labels\\val.cache... 458 image\u001b[0m\n"
     ]
    },
    {
     "name": "stdout",
     "output_type": "stream",
     "text": [
      "Plotting labels to runs\\obb\\train\\labels.jpg... \n",
      "\u001b[34m\u001b[1moptimizer:\u001b[0m 'optimizer=auto' found, ignoring 'lr0=0.01' and 'momentum=0.937' and determining best 'optimizer', 'lr0' and 'momentum' automatically... \n",
      "\u001b[34m\u001b[1moptimizer:\u001b[0m AdamW(lr=0.000526, momentum=0.9) with parameter groups 63 weight(decay=0.0), 73 weight(decay=0.0005), 72 bias(decay=0.0)\n",
      "Image sizes 640 train, 640 val\n",
      "Using 8 dataloader workers\n",
      "Logging results to \u001b[1mruns\\obb\\train\u001b[0m\n",
      "Starting training for 100 epochs...\n",
      "\n",
      "      Epoch    GPU_mem   box_loss   cls_loss   dfl_loss  Instances       Size\n"
     ]
    },
    {
     "name": "stderr",
     "output_type": "stream",
     "text": [
      "      1/100      9.53G      1.201          1      1.199         17        640: 100%|██████████| 89/\n",
      "                 Class     Images  Instances      Box(P          R      mAP50  mAP50-95): 100%|████"
     ]
    },
    {
     "name": "stdout",
     "output_type": "stream",
     "text": [
      "                   all        458      28853      0.666      0.414      0.445      0.263\n"
     ]
    },
    {
     "name": "stderr",
     "output_type": "stream",
     "text": [
      "\n"
     ]
    },
    {
     "name": "stdout",
     "output_type": "stream",
     "text": [
      "\n",
      "      Epoch    GPU_mem   box_loss   cls_loss   dfl_loss  Instances       Size\n"
     ]
    },
    {
     "name": "stderr",
     "output_type": "stream",
     "text": [
      "      2/100      13.3G      1.113     0.7806      1.151         59        640: 100%|██████████| 89/\n",
      "                 Class     Images  Instances      Box(P          R      mAP50  mAP50-95): 100%|████"
     ]
    },
    {
     "name": "stdout",
     "output_type": "stream",
     "text": [
      "                   all        458      28853      0.662      0.408      0.443      0.263\n"
     ]
    },
    {
     "name": "stderr",
     "output_type": "stream",
     "text": [
      "\n"
     ]
    },
    {
     "name": "stdout",
     "output_type": "stream",
     "text": [
      "\n",
      "      Epoch    GPU_mem   box_loss   cls_loss   dfl_loss  Instances       Size\n"
     ]
    },
    {
     "name": "stderr",
     "output_type": "stream",
     "text": [
      "      3/100      10.5G      1.138     0.7854      1.158        112        640: 100%|██████████| 89/\n",
      "                 Class     Images  Instances      Box(P          R      mAP50  mAP50-95): 100%|████"
     ]
    },
    {
     "name": "stdout",
     "output_type": "stream",
     "text": [
      "                   all        458      28853        0.7      0.401      0.446      0.264\n"
     ]
    },
    {
     "name": "stderr",
     "output_type": "stream",
     "text": [
      "\n"
     ]
    },
    {
     "name": "stdout",
     "output_type": "stream",
     "text": [
      "\n",
      "      Epoch    GPU_mem   box_loss   cls_loss   dfl_loss  Instances       Size\n"
     ]
    },
    {
     "name": "stderr",
     "output_type": "stream",
     "text": [
      "      4/100      10.6G      1.107     0.7671      1.173        255        640: 100%|██████████| 89/\n",
      "                 Class     Images  Instances      Box(P          R      mAP50  mAP50-95): 100%|████"
     ]
    },
    {
     "name": "stdout",
     "output_type": "stream",
     "text": [
      "                   all        458      28853      0.716      0.405      0.447      0.264\n"
     ]
    },
    {
     "name": "stderr",
     "output_type": "stream",
     "text": [
      "\n"
     ]
    },
    {
     "name": "stdout",
     "output_type": "stream",
     "text": [
      "\n",
      "      Epoch    GPU_mem   box_loss   cls_loss   dfl_loss  Instances       Size\n"
     ]
    },
    {
     "name": "stderr",
     "output_type": "stream",
     "text": [
      "      5/100      9.01G       1.12     0.7672      1.154        155        640: 100%|██████████| 89/\n",
      "                 Class     Images  Instances      Box(P          R      mAP50  mAP50-95): 100%|████"
     ]
    },
    {
     "name": "stdout",
     "output_type": "stream",
     "text": [
      "                   all        458      28853      0.726      0.408      0.455      0.269\n"
     ]
    },
    {
     "name": "stderr",
     "output_type": "stream",
     "text": [
      "\n"
     ]
    },
    {
     "name": "stdout",
     "output_type": "stream",
     "text": [
      "\n",
      "      Epoch    GPU_mem   box_loss   cls_loss   dfl_loss  Instances       Size\n"
     ]
    },
    {
     "name": "stderr",
     "output_type": "stream",
     "text": [
      "      6/100      7.44G      1.095     0.7519      1.163         35        640: 100%|██████████| 89/\n",
      "                 Class     Images  Instances      Box(P          R      mAP50  mAP50-95): 100%|████"
     ]
    },
    {
     "name": "stdout",
     "output_type": "stream",
     "text": [
      "                   all        458      28853      0.733      0.414      0.454      0.269\n"
     ]
    },
    {
     "name": "stderr",
     "output_type": "stream",
     "text": [
      "\n"
     ]
    },
    {
     "name": "stdout",
     "output_type": "stream",
     "text": [
      "\n",
      "      Epoch    GPU_mem   box_loss   cls_loss   dfl_loss  Instances       Size\n"
     ]
    },
    {
     "name": "stderr",
     "output_type": "stream",
     "text": [
      "      7/100      15.4G      1.071     0.7346      1.164        140        640: 100%|██████████| 89/\n",
      "                 Class     Images  Instances      Box(P          R      mAP50  mAP50-95): 100%|████"
     ]
    },
    {
     "name": "stdout",
     "output_type": "stream",
     "text": [
      "                   all        458      28853       0.67      0.419      0.447      0.266\n"
     ]
    },
    {
     "name": "stderr",
     "output_type": "stream",
     "text": [
      "\n"
     ]
    },
    {
     "name": "stdout",
     "output_type": "stream",
     "text": [
      "\n",
      "      Epoch    GPU_mem   box_loss   cls_loss   dfl_loss  Instances       Size\n"
     ]
    },
    {
     "name": "stderr",
     "output_type": "stream",
     "text": [
      "      8/100      5.98G      1.086     0.7428       1.14        197        640: 100%|██████████| 89/\n",
      "                 Class     Images  Instances      Box(P          R      mAP50  mAP50-95): 100%|████"
     ]
    },
    {
     "name": "stdout",
     "output_type": "stream",
     "text": [
      "                   all        458      28853      0.658      0.419      0.452      0.266\n"
     ]
    },
    {
     "name": "stderr",
     "output_type": "stream",
     "text": [
      "\n"
     ]
    },
    {
     "name": "stdout",
     "output_type": "stream",
     "text": [
      "\n",
      "      Epoch    GPU_mem   box_loss   cls_loss   dfl_loss  Instances       Size\n"
     ]
    },
    {
     "name": "stderr",
     "output_type": "stream",
     "text": [
      "      9/100      14.7G      1.107     0.7487      1.145        121        640: 100%|██████████| 89/\n",
      "                 Class     Images  Instances      Box(P          R      mAP50  mAP50-95): 100%|████"
     ]
    },
    {
     "name": "stdout",
     "output_type": "stream",
     "text": [
      "                   all        458      28853      0.687      0.424      0.457      0.272\n"
     ]
    },
    {
     "name": "stderr",
     "output_type": "stream",
     "text": [
      "\n"
     ]
    },
    {
     "name": "stdout",
     "output_type": "stream",
     "text": [
      "\n",
      "      Epoch    GPU_mem   box_loss   cls_loss   dfl_loss  Instances       Size\n"
     ]
    },
    {
     "name": "stderr",
     "output_type": "stream",
     "text": [
      "     10/100      13.1G      1.079      0.726      1.141        115        640: 100%|██████████| 89/\n",
      "                 Class     Images  Instances      Box(P          R      mAP50  mAP50-95): 100%|████"
     ]
    },
    {
     "name": "stdout",
     "output_type": "stream",
     "text": [
      "                   all        458      28853      0.692      0.426      0.458      0.274\n"
     ]
    },
    {
     "name": "stderr",
     "output_type": "stream",
     "text": [
      "\n"
     ]
    },
    {
     "name": "stdout",
     "output_type": "stream",
     "text": [
      "\n",
      "      Epoch    GPU_mem   box_loss   cls_loss   dfl_loss  Instances       Size\n"
     ]
    },
    {
     "name": "stderr",
     "output_type": "stream",
     "text": [
      "     11/100      12.6G      1.071     0.7244      1.129         85        640: 100%|██████████| 89/\n",
      "                 Class     Images  Instances      Box(P          R      mAP50  mAP50-95): 100%|████"
     ]
    },
    {
     "name": "stdout",
     "output_type": "stream",
     "text": [
      "                   all        458      28853      0.685      0.421      0.449      0.269\n"
     ]
    },
    {
     "name": "stderr",
     "output_type": "stream",
     "text": [
      "\n"
     ]
    },
    {
     "name": "stdout",
     "output_type": "stream",
     "text": [
      "\n",
      "      Epoch    GPU_mem   box_loss   cls_loss   dfl_loss  Instances       Size\n"
     ]
    },
    {
     "name": "stderr",
     "output_type": "stream",
     "text": [
      "     12/100      6.62G      1.073     0.7263      1.148        689        640: 100%|██████████| 89/\n",
      "                 Class     Images  Instances      Box(P          R      mAP50  mAP50-95): 100%|████"
     ]
    },
    {
     "name": "stdout",
     "output_type": "stream",
     "text": [
      "                   all        458      28853      0.692      0.428      0.461      0.275\n"
     ]
    },
    {
     "name": "stderr",
     "output_type": "stream",
     "text": [
      "\n"
     ]
    },
    {
     "name": "stdout",
     "output_type": "stream",
     "text": [
      "\n",
      "      Epoch    GPU_mem   box_loss   cls_loss   dfl_loss  Instances       Size\n"
     ]
    },
    {
     "name": "stderr",
     "output_type": "stream",
     "text": [
      "     13/100      15.8G      1.071     0.7247      1.146         93        640: 100%|██████████| 89/\n",
      "                 Class     Images  Instances      Box(P          R      mAP50  mAP50-95): 100%|████"
     ]
    },
    {
     "name": "stdout",
     "output_type": "stream",
     "text": [
      "                   all        458      28853      0.711      0.426      0.463      0.276\n"
     ]
    },
    {
     "name": "stderr",
     "output_type": "stream",
     "text": [
      "\n"
     ]
    },
    {
     "name": "stdout",
     "output_type": "stream",
     "text": [
      "\n",
      "      Epoch    GPU_mem   box_loss   cls_loss   dfl_loss  Instances       Size\n"
     ]
    },
    {
     "name": "stderr",
     "output_type": "stream",
     "text": [
      "     14/100      7.43G      1.049     0.7102      1.122       1016        640: 100%|██████████| 89/\n",
      "                 Class     Images  Instances      Box(P          R      mAP50  mAP50-95): 100%|████"
     ]
    },
    {
     "name": "stdout",
     "output_type": "stream",
     "text": [
      "                   all        458      28853      0.721      0.429      0.468      0.276\n"
     ]
    },
    {
     "name": "stderr",
     "output_type": "stream",
     "text": [
      "\n"
     ]
    },
    {
     "name": "stdout",
     "output_type": "stream",
     "text": [
      "\n",
      "      Epoch    GPU_mem   box_loss   cls_loss   dfl_loss  Instances       Size\n"
     ]
    },
    {
     "name": "stderr",
     "output_type": "stream",
     "text": [
      "     15/100      13.3G      1.073     0.7221      1.134        145        640: 100%|██████████| 89/\n",
      "                 Class     Images  Instances      Box(P          R      mAP50  mAP50-95): 100%|████"
     ]
    },
    {
     "name": "stdout",
     "output_type": "stream",
     "text": [
      "                   all        458      28853      0.712      0.424      0.464      0.276\n"
     ]
    },
    {
     "name": "stderr",
     "output_type": "stream",
     "text": [
      "\n"
     ]
    },
    {
     "name": "stdout",
     "output_type": "stream",
     "text": [
      "\n",
      "      Epoch    GPU_mem   box_loss   cls_loss   dfl_loss  Instances       Size\n"
     ]
    },
    {
     "name": "stderr",
     "output_type": "stream",
     "text": [
      "     16/100      8.56G      1.044     0.6976      1.142        174        640: 100%|██████████| 89/\n",
      "                 Class     Images  Instances      Box(P          R      mAP50  mAP50-95): 100%|████"
     ]
    },
    {
     "name": "stdout",
     "output_type": "stream",
     "text": [
      "                   all        458      28853      0.658      0.425      0.455      0.271\n"
     ]
    },
    {
     "name": "stderr",
     "output_type": "stream",
     "text": [
      "\n"
     ]
    },
    {
     "name": "stdout",
     "output_type": "stream",
     "text": [
      "\n",
      "      Epoch    GPU_mem   box_loss   cls_loss   dfl_loss  Instances       Size\n"
     ]
    },
    {
     "name": "stderr",
     "output_type": "stream",
     "text": [
      "     17/100      10.3G       1.03     0.6896      1.128         22        640: 100%|██████████| 89/\n",
      "                 Class     Images  Instances      Box(P          R      mAP50  mAP50-95): 100%|████"
     ]
    },
    {
     "name": "stdout",
     "output_type": "stream",
     "text": [
      "                   all        458      28853      0.705      0.433      0.463      0.276\n"
     ]
    },
    {
     "name": "stderr",
     "output_type": "stream",
     "text": [
      "\n"
     ]
    },
    {
     "name": "stdout",
     "output_type": "stream",
     "text": [
      "\n",
      "      Epoch    GPU_mem   box_loss   cls_loss   dfl_loss  Instances       Size\n"
     ]
    },
    {
     "name": "stderr",
     "output_type": "stream",
     "text": [
      "     18/100      11.8G       1.05     0.7138       1.15         49        640: 100%|██████████| 89/\n",
      "                 Class     Images  Instances      Box(P          R      mAP50  mAP50-95): 100%|████"
     ]
    },
    {
     "name": "stdout",
     "output_type": "stream",
     "text": [
      "                   all        458      28853      0.705       0.42      0.458      0.272\n"
     ]
    },
    {
     "name": "stderr",
     "output_type": "stream",
     "text": [
      "\n"
     ]
    },
    {
     "name": "stdout",
     "output_type": "stream",
     "text": [
      "\n",
      "      Epoch    GPU_mem   box_loss   cls_loss   dfl_loss  Instances       Size\n"
     ]
    },
    {
     "name": "stderr",
     "output_type": "stream",
     "text": [
      "     19/100      12.3G       1.04     0.6998      1.135        150        640: 100%|██████████| 89/\n",
      "                 Class     Images  Instances      Box(P          R      mAP50  mAP50-95): 100%|████"
     ]
    },
    {
     "name": "stdout",
     "output_type": "stream",
     "text": [
      "                   all        458      28853      0.711      0.424      0.467       0.28\n"
     ]
    },
    {
     "name": "stderr",
     "output_type": "stream",
     "text": [
      "\n"
     ]
    },
    {
     "name": "stdout",
     "output_type": "stream",
     "text": [
      "\n",
      "      Epoch    GPU_mem   box_loss   cls_loss   dfl_loss  Instances       Size\n"
     ]
    },
    {
     "name": "stderr",
     "output_type": "stream",
     "text": [
      "     20/100      10.6G      1.048     0.7005      1.122        140        640: 100%|██████████| 89/\n",
      "                 Class     Images  Instances      Box(P          R      mAP50  mAP50-95): 100%|████"
     ]
    },
    {
     "name": "stdout",
     "output_type": "stream",
     "text": [
      "                   all        458      28853      0.687      0.424      0.464      0.278\n"
     ]
    },
    {
     "name": "stderr",
     "output_type": "stream",
     "text": [
      "\n"
     ]
    },
    {
     "name": "stdout",
     "output_type": "stream",
     "text": [
      "\n",
      "      Epoch    GPU_mem   box_loss   cls_loss   dfl_loss  Instances       Size\n"
     ]
    },
    {
     "name": "stderr",
     "output_type": "stream",
     "text": [
      "     21/100      10.5G      1.048     0.7028       1.12        144        640: 100%|██████████| 89/\n",
      "                 Class     Images  Instances      Box(P          R      mAP50  mAP50-95): 100%|████"
     ]
    },
    {
     "name": "stdout",
     "output_type": "stream",
     "text": [
      "                   all        458      28853      0.726       0.42      0.463      0.275\n"
     ]
    },
    {
     "name": "stderr",
     "output_type": "stream",
     "text": [
      "\n"
     ]
    },
    {
     "name": "stdout",
     "output_type": "stream",
     "text": [
      "\n",
      "      Epoch    GPU_mem   box_loss   cls_loss   dfl_loss  Instances       Size\n"
     ]
    },
    {
     "name": "stderr",
     "output_type": "stream",
     "text": [
      "     22/100      6.41G      1.025     0.6862      1.122         45        640: 100%|██████████| 89/\n",
      "                 Class     Images  Instances      Box(P          R      mAP50  mAP50-95): 100%|████"
     ]
    },
    {
     "name": "stdout",
     "output_type": "stream",
     "text": [
      "                   all        458      28853      0.698      0.434      0.467      0.277\n"
     ]
    },
    {
     "name": "stderr",
     "output_type": "stream",
     "text": [
      "\n"
     ]
    },
    {
     "name": "stdout",
     "output_type": "stream",
     "text": [
      "\n",
      "      Epoch    GPU_mem   box_loss   cls_loss   dfl_loss  Instances       Size\n"
     ]
    },
    {
     "name": "stderr",
     "output_type": "stream",
     "text": [
      "     23/100      15.2G      1.028       0.69       1.12        391        640: 100%|██████████| 89/\n",
      "                 Class     Images  Instances      Box(P          R      mAP50  mAP50-95): 100%|████"
     ]
    },
    {
     "name": "stdout",
     "output_type": "stream",
     "text": [
      "                   all        458      28853      0.692      0.434      0.467      0.281\n"
     ]
    },
    {
     "name": "stderr",
     "output_type": "stream",
     "text": [
      "\n"
     ]
    },
    {
     "name": "stdout",
     "output_type": "stream",
     "text": [
      "\n",
      "      Epoch    GPU_mem   box_loss   cls_loss   dfl_loss  Instances       Size\n"
     ]
    },
    {
     "name": "stderr",
     "output_type": "stream",
     "text": [
      "     24/100      8.27G      1.029     0.6904      1.119        133        640: 100%|██████████| 89/\n",
      "                 Class     Images  Instances      Box(P          R      mAP50  mAP50-95): 100%|████"
     ]
    },
    {
     "name": "stdout",
     "output_type": "stream",
     "text": [
      "                   all        458      28853       0.72      0.433      0.467       0.28\n"
     ]
    },
    {
     "name": "stderr",
     "output_type": "stream",
     "text": [
      "\n"
     ]
    },
    {
     "name": "stdout",
     "output_type": "stream",
     "text": [
      "\n",
      "      Epoch    GPU_mem   box_loss   cls_loss   dfl_loss  Instances       Size\n"
     ]
    },
    {
     "name": "stderr",
     "output_type": "stream",
     "text": [
      "     25/100      6.81G       1.04     0.6897      1.107        127        640: 100%|██████████| 89/\n",
      "                 Class     Images  Instances      Box(P          R      mAP50  mAP50-95): 100%|████"
     ]
    },
    {
     "name": "stdout",
     "output_type": "stream",
     "text": [
      "                   all        458      28853       0.67      0.436      0.467      0.281\n"
     ]
    },
    {
     "name": "stderr",
     "output_type": "stream",
     "text": [
      "\n"
     ]
    },
    {
     "name": "stdout",
     "output_type": "stream",
     "text": [
      "\n",
      "      Epoch    GPU_mem   box_loss   cls_loss   dfl_loss  Instances       Size\n"
     ]
    },
    {
     "name": "stderr",
     "output_type": "stream",
     "text": [
      "     26/100      8.37G       1.01     0.6761      1.118        179        640: 100%|██████████| 89/\n",
      "                 Class     Images  Instances      Box(P          R      mAP50  mAP50-95): 100%|████"
     ]
    },
    {
     "name": "stdout",
     "output_type": "stream",
     "text": [
      "                   all        458      28853      0.691       0.43      0.465      0.275\n"
     ]
    },
    {
     "name": "stderr",
     "output_type": "stream",
     "text": [
      "\n"
     ]
    },
    {
     "name": "stdout",
     "output_type": "stream",
     "text": [
      "\n",
      "      Epoch    GPU_mem   box_loss   cls_loss   dfl_loss  Instances       Size\n"
     ]
    },
    {
     "name": "stderr",
     "output_type": "stream",
     "text": [
      "     27/100      10.6G      1.019      0.679      1.115        569        640: 100%|██████████| 89/\n",
      "                 Class     Images  Instances      Box(P          R      mAP50  mAP50-95): 100%|████"
     ]
    },
    {
     "name": "stdout",
     "output_type": "stream",
     "text": [
      "                   all        458      28853      0.704      0.424      0.463      0.277\n"
     ]
    },
    {
     "name": "stderr",
     "output_type": "stream",
     "text": [
      "\n"
     ]
    },
    {
     "name": "stdout",
     "output_type": "stream",
     "text": [
      "\n",
      "      Epoch    GPU_mem   box_loss   cls_loss   dfl_loss  Instances       Size\n"
     ]
    },
    {
     "name": "stderr",
     "output_type": "stream",
     "text": [
      "     28/100      14.1G       1.04     0.6848       1.12         62        640: 100%|██████████| 89/\n",
      "                 Class     Images  Instances      Box(P          R      mAP50  mAP50-95): 100%|████"
     ]
    },
    {
     "name": "stdout",
     "output_type": "stream",
     "text": [
      "                   all        458      28853      0.726      0.426       0.47       0.28\n"
     ]
    },
    {
     "name": "stderr",
     "output_type": "stream",
     "text": [
      "\n"
     ]
    },
    {
     "name": "stdout",
     "output_type": "stream",
     "text": [
      "\n",
      "      Epoch    GPU_mem   box_loss   cls_loss   dfl_loss  Instances       Size\n"
     ]
    },
    {
     "name": "stderr",
     "output_type": "stream",
     "text": [
      "     29/100      11.9G      1.028      0.691      1.114         30        640: 100%|██████████| 89/\n",
      "                 Class     Images  Instances      Box(P          R      mAP50  mAP50-95): 100%|████"
     ]
    },
    {
     "name": "stdout",
     "output_type": "stream",
     "text": [
      "                   all        458      28853      0.686      0.431      0.463      0.277\n"
     ]
    },
    {
     "name": "stderr",
     "output_type": "stream",
     "text": [
      "\n"
     ]
    },
    {
     "name": "stdout",
     "output_type": "stream",
     "text": [
      "\n",
      "      Epoch    GPU_mem   box_loss   cls_loss   dfl_loss  Instances       Size\n"
     ]
    },
    {
     "name": "stderr",
     "output_type": "stream",
     "text": [
      "     30/100      6.73G      1.013     0.6789      1.117        107        640: 100%|██████████| 89/\n",
      "                 Class     Images  Instances      Box(P          R      mAP50  mAP50-95): 100%|████"
     ]
    },
    {
     "name": "stdout",
     "output_type": "stream",
     "text": [
      "                   all        458      28853      0.689      0.425      0.456      0.274\n"
     ]
    },
    {
     "name": "stderr",
     "output_type": "stream",
     "text": [
      "\n"
     ]
    },
    {
     "name": "stdout",
     "output_type": "stream",
     "text": [
      "\n",
      "      Epoch    GPU_mem   box_loss   cls_loss   dfl_loss  Instances       Size\n"
     ]
    },
    {
     "name": "stderr",
     "output_type": "stream",
     "text": [
      "     31/100      15.5G      1.023     0.6773      1.113        368        640: 100%|██████████| 89/\n",
      "                 Class     Images  Instances      Box(P          R      mAP50  mAP50-95): 100%|████"
     ]
    },
    {
     "name": "stdout",
     "output_type": "stream",
     "text": [
      "                   all        458      28853      0.711       0.42      0.466      0.277\n"
     ]
    },
    {
     "name": "stderr",
     "output_type": "stream",
     "text": [
      "\n"
     ]
    },
    {
     "name": "stdout",
     "output_type": "stream",
     "text": [
      "\n",
      "      Epoch    GPU_mem   box_loss   cls_loss   dfl_loss  Instances       Size\n"
     ]
    },
    {
     "name": "stderr",
     "output_type": "stream",
     "text": [
      "     32/100      7.88G      1.008      0.669      1.127         31        640: 100%|██████████| 89/\n",
      "                 Class     Images  Instances      Box(P          R      mAP50  mAP50-95): 100%|████"
     ]
    },
    {
     "name": "stdout",
     "output_type": "stream",
     "text": [
      "                   all        458      28853      0.702      0.429      0.465      0.275\n"
     ]
    },
    {
     "name": "stderr",
     "output_type": "stream",
     "text": [
      "\n"
     ]
    },
    {
     "name": "stdout",
     "output_type": "stream",
     "text": [
      "\n",
      "      Epoch    GPU_mem   box_loss   cls_loss   dfl_loss  Instances       Size\n"
     ]
    },
    {
     "name": "stderr",
     "output_type": "stream",
     "text": [
      "     33/100      6.43G      1.045     0.6906      1.118         82        640: 100%|██████████| 89/\n",
      "                 Class     Images  Instances      Box(P          R      mAP50  mAP50-95): 100%|████"
     ]
    },
    {
     "name": "stdout",
     "output_type": "stream",
     "text": [
      "                   all        458      28853      0.693      0.431      0.467       0.28\n"
     ]
    },
    {
     "name": "stderr",
     "output_type": "stream",
     "text": [
      "\n"
     ]
    },
    {
     "name": "stdout",
     "output_type": "stream",
     "text": [
      "\n",
      "      Epoch    GPU_mem   box_loss   cls_loss   dfl_loss  Instances       Size\n"
     ]
    },
    {
     "name": "stderr",
     "output_type": "stream",
     "text": [
      "     34/100      9.03G      1.025     0.6765      1.093        550        640: 100%|██████████| 89/\n",
      "                 Class     Images  Instances      Box(P          R      mAP50  mAP50-95): 100%|████"
     ]
    },
    {
     "name": "stdout",
     "output_type": "stream",
     "text": [
      "                   all        458      28853       0.74      0.425      0.468       0.28\n"
     ]
    },
    {
     "name": "stderr",
     "output_type": "stream",
     "text": [
      "\n"
     ]
    },
    {
     "name": "stdout",
     "output_type": "stream",
     "text": [
      "\n",
      "      Epoch    GPU_mem   box_loss   cls_loss   dfl_loss  Instances       Size\n"
     ]
    },
    {
     "name": "stderr",
     "output_type": "stream",
     "text": [
      "     35/100      8.71G      0.992      0.661      1.129         37        640: 100%|██████████| 89/\n",
      "                 Class     Images  Instances      Box(P          R      mAP50  mAP50-95): 100%|████"
     ]
    },
    {
     "name": "stdout",
     "output_type": "stream",
     "text": [
      "                   all        458      28853        0.7      0.428      0.467       0.28\n"
     ]
    },
    {
     "name": "stderr",
     "output_type": "stream",
     "text": [
      "\n"
     ]
    },
    {
     "name": "stdout",
     "output_type": "stream",
     "text": [
      "\n",
      "      Epoch    GPU_mem   box_loss   cls_loss   dfl_loss  Instances       Size\n"
     ]
    },
    {
     "name": "stderr",
     "output_type": "stream",
     "text": [
      "     36/100      13.1G      1.012       0.67      1.118         52        640: 100%|██████████| 89/\n",
      "                 Class     Images  Instances      Box(P          R      mAP50  mAP50-95): 100%|████"
     ]
    },
    {
     "name": "stdout",
     "output_type": "stream",
     "text": [
      "                   all        458      28853      0.689      0.434      0.466      0.281\n"
     ]
    },
    {
     "name": "stderr",
     "output_type": "stream",
     "text": [
      "\n"
     ]
    },
    {
     "name": "stdout",
     "output_type": "stream",
     "text": [
      "\n",
      "      Epoch    GPU_mem   box_loss   cls_loss   dfl_loss  Instances       Size\n"
     ]
    },
    {
     "name": "stderr",
     "output_type": "stream",
     "text": [
      "     37/100      10.5G     0.9864     0.6593      1.121        228        640: 100%|██████████| 89/\n",
      "                 Class     Images  Instances      Box(P          R      mAP50  mAP50-95): 100%|████"
     ]
    },
    {
     "name": "stdout",
     "output_type": "stream",
     "text": [
      "                   all        458      28853      0.702       0.43      0.468      0.281\n"
     ]
    },
    {
     "name": "stderr",
     "output_type": "stream",
     "text": [
      "\n"
     ]
    },
    {
     "name": "stdout",
     "output_type": "stream",
     "text": [
      "\n",
      "      Epoch    GPU_mem   box_loss   cls_loss   dfl_loss  Instances       Size\n"
     ]
    },
    {
     "name": "stderr",
     "output_type": "stream",
     "text": [
      "     38/100        13G      1.004     0.6616      1.107        483        640: 100%|██████████| 89/\n",
      "                 Class     Images  Instances      Box(P          R      mAP50  mAP50-95): 100%|████"
     ]
    },
    {
     "name": "stdout",
     "output_type": "stream",
     "text": [
      "                   all        458      28853      0.704      0.436      0.468      0.281\n"
     ]
    },
    {
     "name": "stderr",
     "output_type": "stream",
     "text": [
      "\n"
     ]
    },
    {
     "name": "stdout",
     "output_type": "stream",
     "text": [
      "\n",
      "      Epoch    GPU_mem   box_loss   cls_loss   dfl_loss  Instances       Size\n"
     ]
    },
    {
     "name": "stderr",
     "output_type": "stream",
     "text": [
      "     39/100      8.51G     0.9962      0.662      1.116        225        640: 100%|██████████| 89/\n",
      "                 Class     Images  Instances      Box(P          R      mAP50  mAP50-95): 100%|████"
     ]
    },
    {
     "name": "stdout",
     "output_type": "stream",
     "text": [
      "                   all        458      28853      0.717      0.425      0.472      0.282\n"
     ]
    },
    {
     "name": "stderr",
     "output_type": "stream",
     "text": [
      "\n"
     ]
    },
    {
     "name": "stdout",
     "output_type": "stream",
     "text": [
      "\n",
      "      Epoch    GPU_mem   box_loss   cls_loss   dfl_loss  Instances       Size\n"
     ]
    },
    {
     "name": "stderr",
     "output_type": "stream",
     "text": [
      "     40/100      7.83G      0.983     0.6606      1.121        101        640: 100%|██████████| 89/\n",
      "                 Class     Images  Instances      Box(P          R      mAP50  mAP50-95): 100%|████"
     ]
    },
    {
     "name": "stdout",
     "output_type": "stream",
     "text": [
      "                   all        458      28853      0.729      0.426      0.469       0.28\n"
     ]
    },
    {
     "name": "stderr",
     "output_type": "stream",
     "text": [
      "\n"
     ]
    },
    {
     "name": "stdout",
     "output_type": "stream",
     "text": [
      "\n",
      "      Epoch    GPU_mem   box_loss   cls_loss   dfl_loss  Instances       Size\n"
     ]
    },
    {
     "name": "stderr",
     "output_type": "stream",
     "text": [
      "     41/100      13.2G      1.011     0.6592      1.114        229        640: 100%|██████████| 89/\n",
      "                 Class     Images  Instances      Box(P          R      mAP50  mAP50-95): 100%|████"
     ]
    },
    {
     "name": "stdout",
     "output_type": "stream",
     "text": [
      "                   all        458      28853      0.745       0.42      0.468      0.278\n"
     ]
    },
    {
     "name": "stderr",
     "output_type": "stream",
     "text": [
      "\n"
     ]
    },
    {
     "name": "stdout",
     "output_type": "stream",
     "text": [
      "\n",
      "      Epoch    GPU_mem   box_loss   cls_loss   dfl_loss  Instances       Size\n"
     ]
    },
    {
     "name": "stderr",
     "output_type": "stream",
     "text": [
      "     42/100      13.4G     0.9914     0.6563      1.127         29        640: 100%|██████████| 89/\n",
      "                 Class     Images  Instances      Box(P          R      mAP50  mAP50-95): 100%|████"
     ]
    },
    {
     "name": "stdout",
     "output_type": "stream",
     "text": [
      "                   all        458      28853      0.711      0.431      0.466      0.278\n"
     ]
    },
    {
     "name": "stderr",
     "output_type": "stream",
     "text": [
      "\n"
     ]
    },
    {
     "name": "stdout",
     "output_type": "stream",
     "text": [
      "\n",
      "      Epoch    GPU_mem   box_loss   cls_loss   dfl_loss  Instances       Size\n"
     ]
    },
    {
     "name": "stderr",
     "output_type": "stream",
     "text": [
      "     43/100      11.5G      1.008       0.66       1.11         72        640: 100%|██████████| 89/\n",
      "                 Class     Images  Instances      Box(P          R      mAP50  mAP50-95): 100%|████"
     ]
    },
    {
     "name": "stdout",
     "output_type": "stream",
     "text": [
      "                   all        458      28853      0.728       0.42      0.468       0.28\n"
     ]
    },
    {
     "name": "stderr",
     "output_type": "stream",
     "text": [
      "\n"
     ]
    },
    {
     "name": "stdout",
     "output_type": "stream",
     "text": [
      "\n",
      "      Epoch    GPU_mem   box_loss   cls_loss   dfl_loss  Instances       Size\n"
     ]
    },
    {
     "name": "stderr",
     "output_type": "stream",
     "text": [
      "     44/100      10.9G     0.9812     0.6473      1.098         46        640: 100%|██████████| 89/\n",
      "                 Class     Images  Instances      Box(P          R      mAP50  mAP50-95): 100%|████"
     ]
    },
    {
     "name": "stdout",
     "output_type": "stream",
     "text": [
      "                   all        458      28853      0.716       0.43      0.465      0.281\n"
     ]
    },
    {
     "name": "stderr",
     "output_type": "stream",
     "text": [
      "\n"
     ]
    },
    {
     "name": "stdout",
     "output_type": "stream",
     "text": [
      "\n",
      "      Epoch    GPU_mem   box_loss   cls_loss   dfl_loss  Instances       Size\n"
     ]
    },
    {
     "name": "stderr",
     "output_type": "stream",
     "text": [
      "     45/100      12.6G     0.9834     0.6469      1.115         89        640: 100%|██████████| 89/\n",
      "                 Class     Images  Instances      Box(P          R      mAP50  mAP50-95): 100%|████"
     ]
    },
    {
     "name": "stdout",
     "output_type": "stream",
     "text": [
      "                   all        458      28853      0.741      0.419      0.464      0.278\n"
     ]
    },
    {
     "name": "stderr",
     "output_type": "stream",
     "text": [
      "\n"
     ]
    },
    {
     "name": "stdout",
     "output_type": "stream",
     "text": [
      "\n",
      "      Epoch    GPU_mem   box_loss   cls_loss   dfl_loss  Instances       Size\n"
     ]
    },
    {
     "name": "stderr",
     "output_type": "stream",
     "text": [
      "     46/100      14.3G     0.9807     0.6437      1.106        330        640: 100%|██████████| 89/\n",
      "                 Class     Images  Instances      Box(P          R      mAP50  mAP50-95): 100%|████"
     ]
    },
    {
     "name": "stdout",
     "output_type": "stream",
     "text": [
      "                   all        458      28853      0.716      0.429      0.467      0.281\n"
     ]
    },
    {
     "name": "stderr",
     "output_type": "stream",
     "text": [
      "\n"
     ]
    },
    {
     "name": "stdout",
     "output_type": "stream",
     "text": [
      "\n",
      "      Epoch    GPU_mem   box_loss   cls_loss   dfl_loss  Instances       Size\n"
     ]
    },
    {
     "name": "stderr",
     "output_type": "stream",
     "text": [
      "     47/100      9.26G     0.9799     0.6464      1.105         68        640: 100%|██████████| 89/\n",
      "                 Class     Images  Instances      Box(P          R      mAP50  mAP50-95): 100%|████"
     ]
    },
    {
     "name": "stdout",
     "output_type": "stream",
     "text": [
      "                   all        458      28853      0.711      0.435      0.468      0.281\n"
     ]
    },
    {
     "name": "stderr",
     "output_type": "stream",
     "text": [
      "\n"
     ]
    },
    {
     "name": "stdout",
     "output_type": "stream",
     "text": [
      "\n",
      "      Epoch    GPU_mem   box_loss   cls_loss   dfl_loss  Instances       Size\n"
     ]
    },
    {
     "name": "stderr",
     "output_type": "stream",
     "text": [
      "     48/100      12.3G     0.9984     0.6533      1.101         85        640: 100%|██████████| 89/\n",
      "                 Class     Images  Instances      Box(P          R      mAP50  mAP50-95): 100%|████"
     ]
    },
    {
     "name": "stdout",
     "output_type": "stream",
     "text": [
      "                   all        458      28853      0.718      0.425      0.467      0.282\n"
     ]
    },
    {
     "name": "stderr",
     "output_type": "stream",
     "text": [
      "\n"
     ]
    },
    {
     "name": "stdout",
     "output_type": "stream",
     "text": [
      "\n",
      "      Epoch    GPU_mem   box_loss   cls_loss   dfl_loss  Instances       Size\n"
     ]
    },
    {
     "name": "stderr",
     "output_type": "stream",
     "text": [
      "     49/100      10.1G     0.9877     0.6433      1.099        292        640: 100%|██████████| 89/\n",
      "                 Class     Images  Instances      Box(P          R      mAP50  mAP50-95): 100%|████"
     ]
    },
    {
     "name": "stdout",
     "output_type": "stream",
     "text": [
      "                   all        458      28853      0.709      0.437      0.468      0.283\n"
     ]
    },
    {
     "name": "stderr",
     "output_type": "stream",
     "text": [
      "\n"
     ]
    },
    {
     "name": "stdout",
     "output_type": "stream",
     "text": [
      "\n",
      "      Epoch    GPU_mem   box_loss   cls_loss   dfl_loss  Instances       Size\n"
     ]
    },
    {
     "name": "stderr",
     "output_type": "stream",
     "text": [
      "     50/100      7.11G     0.9953     0.6555      1.101         40        640: 100%|██████████| 89/\n",
      "                 Class     Images  Instances      Box(P          R      mAP50  mAP50-95): 100%|████"
     ]
    },
    {
     "name": "stdout",
     "output_type": "stream",
     "text": [
      "                   all        458      28853      0.715      0.434      0.471      0.281\n"
     ]
    },
    {
     "name": "stderr",
     "output_type": "stream",
     "text": [
      "\n"
     ]
    },
    {
     "name": "stdout",
     "output_type": "stream",
     "text": [
      "\n",
      "      Epoch    GPU_mem   box_loss   cls_loss   dfl_loss  Instances       Size\n"
     ]
    },
    {
     "name": "stderr",
     "output_type": "stream",
     "text": [
      "     51/100         8G     0.9917     0.6533      1.106          7        640: 100%|██████████| 89/\n",
      "                 Class     Images  Instances      Box(P          R      mAP50  mAP50-95): 100%|████"
     ]
    },
    {
     "name": "stdout",
     "output_type": "stream",
     "text": [
      "                   all        458      28853      0.704      0.429      0.469      0.281\n"
     ]
    },
    {
     "name": "stderr",
     "output_type": "stream",
     "text": [
      "\n"
     ]
    },
    {
     "name": "stdout",
     "output_type": "stream",
     "text": [
      "\n",
      "      Epoch    GPU_mem   box_loss   cls_loss   dfl_loss  Instances       Size\n"
     ]
    },
    {
     "name": "stderr",
     "output_type": "stream",
     "text": [
      "     52/100      8.74G     0.9807     0.6442      1.085        714        640: 100%|██████████| 89/\n",
      "                 Class     Images  Instances      Box(P          R      mAP50  mAP50-95): 100%|████"
     ]
    },
    {
     "name": "stdout",
     "output_type": "stream",
     "text": [
      "                   all        458      28853       0.68      0.445      0.472      0.285\n"
     ]
    },
    {
     "name": "stderr",
     "output_type": "stream",
     "text": [
      "\n"
     ]
    },
    {
     "name": "stdout",
     "output_type": "stream",
     "text": [
      "\n",
      "      Epoch    GPU_mem   box_loss   cls_loss   dfl_loss  Instances       Size\n"
     ]
    },
    {
     "name": "stderr",
     "output_type": "stream",
     "text": [
      "     53/100      12.1G     0.9788     0.6411       1.11         29        640: 100%|██████████| 89/\n",
      "                 Class     Images  Instances      Box(P          R      mAP50  mAP50-95): 100%|████"
     ]
    },
    {
     "name": "stdout",
     "output_type": "stream",
     "text": [
      "                   all        458      28853      0.736      0.423      0.471      0.281\n"
     ]
    },
    {
     "name": "stderr",
     "output_type": "stream",
     "text": [
      "\n"
     ]
    },
    {
     "name": "stdout",
     "output_type": "stream",
     "text": [
      "\n",
      "      Epoch    GPU_mem   box_loss   cls_loss   dfl_loss  Instances       Size\n"
     ]
    },
    {
     "name": "stderr",
     "output_type": "stream",
     "text": [
      "     54/100      10.7G     0.9839     0.6493      1.108         86        640: 100%|██████████| 89/\n",
      "                 Class     Images  Instances      Box(P          R      mAP50  mAP50-95): 100%|████"
     ]
    },
    {
     "name": "stdout",
     "output_type": "stream",
     "text": [
      "                   all        458      28853      0.721      0.429      0.467      0.279\n"
     ]
    },
    {
     "name": "stderr",
     "output_type": "stream",
     "text": [
      "\n"
     ]
    },
    {
     "name": "stdout",
     "output_type": "stream",
     "text": [
      "\n",
      "      Epoch    GPU_mem   box_loss   cls_loss   dfl_loss  Instances       Size\n"
     ]
    },
    {
     "name": "stderr",
     "output_type": "stream",
     "text": [
      "     55/100      9.08G     0.9775     0.6503      1.086         15        640: 100%|██████████| 89/\n",
      "                 Class     Images  Instances      Box(P          R      mAP50  mAP50-95): 100%|████"
     ]
    },
    {
     "name": "stdout",
     "output_type": "stream",
     "text": [
      "                   all        458      28853       0.68      0.437      0.465      0.279\n"
     ]
    },
    {
     "name": "stderr",
     "output_type": "stream",
     "text": [
      "\n"
     ]
    },
    {
     "name": "stdout",
     "output_type": "stream",
     "text": [
      "\n",
      "      Epoch    GPU_mem   box_loss   cls_loss   dfl_loss  Instances       Size\n"
     ]
    },
    {
     "name": "stderr",
     "output_type": "stream",
     "text": [
      "     56/100      11.9G     0.9599     0.6235      1.096        241        640: 100%|██████████| 89/\n",
      "                 Class     Images  Instances      Box(P          R      mAP50  mAP50-95): 100%|████"
     ]
    },
    {
     "name": "stdout",
     "output_type": "stream",
     "text": [
      "                   all        458      28853      0.702      0.433       0.47      0.281\n"
     ]
    },
    {
     "name": "stderr",
     "output_type": "stream",
     "text": [
      "\n"
     ]
    },
    {
     "name": "stdout",
     "output_type": "stream",
     "text": [
      "\n",
      "      Epoch    GPU_mem   box_loss   cls_loss   dfl_loss  Instances       Size\n"
     ]
    },
    {
     "name": "stderr",
     "output_type": "stream",
     "text": [
      "     57/100      12.7G     0.9879     0.6461      1.097        529        640: 100%|██████████| 89/\n",
      "                 Class     Images  Instances      Box(P          R      mAP50  mAP50-95): 100%|████"
     ]
    },
    {
     "name": "stdout",
     "output_type": "stream",
     "text": [
      "                   all        458      28853      0.724      0.433      0.471      0.283\n"
     ]
    },
    {
     "name": "stderr",
     "output_type": "stream",
     "text": [
      "\n"
     ]
    },
    {
     "name": "stdout",
     "output_type": "stream",
     "text": [
      "\n",
      "      Epoch    GPU_mem   box_loss   cls_loss   dfl_loss  Instances       Size\n"
     ]
    },
    {
     "name": "stderr",
     "output_type": "stream",
     "text": [
      "     58/100      8.35G     0.9714     0.6339      1.104         74        640: 100%|██████████| 89/\n",
      "                 Class     Images  Instances      Box(P          R      mAP50  mAP50-95): 100%|████"
     ]
    },
    {
     "name": "stdout",
     "output_type": "stream",
     "text": [
      "                   all        458      28853      0.732       0.42      0.464       0.28\n"
     ]
    },
    {
     "name": "stderr",
     "output_type": "stream",
     "text": [
      "\n"
     ]
    },
    {
     "name": "stdout",
     "output_type": "stream",
     "text": [
      "\n",
      "      Epoch    GPU_mem   box_loss   cls_loss   dfl_loss  Instances       Size\n"
     ]
    },
    {
     "name": "stderr",
     "output_type": "stream",
     "text": [
      "     59/100      16.3G     0.9559     0.6343      1.105        210        640: 100%|██████████| 89/\n",
      "                 Class     Images  Instances      Box(P          R      mAP50  mAP50-95): 100%|████"
     ]
    },
    {
     "name": "stdout",
     "output_type": "stream",
     "text": [
      "                   all        458      28853      0.692      0.433      0.466       0.28\n"
     ]
    },
    {
     "name": "stderr",
     "output_type": "stream",
     "text": [
      "\n"
     ]
    },
    {
     "name": "stdout",
     "output_type": "stream",
     "text": [
      "\n",
      "      Epoch    GPU_mem   box_loss   cls_loss   dfl_loss  Instances       Size\n"
     ]
    },
    {
     "name": "stderr",
     "output_type": "stream",
     "text": [
      "     60/100      9.48G     0.9861     0.6458      1.094        242        640: 100%|██████████| 89/\n",
      "                 Class     Images  Instances      Box(P          R      mAP50  mAP50-95): 100%|████"
     ]
    },
    {
     "name": "stdout",
     "output_type": "stream",
     "text": [
      "                   all        458      28853      0.672      0.436      0.462      0.279\n"
     ]
    },
    {
     "name": "stderr",
     "output_type": "stream",
     "text": [
      "\n"
     ]
    },
    {
     "name": "stdout",
     "output_type": "stream",
     "text": [
      "\n",
      "      Epoch    GPU_mem   box_loss   cls_loss   dfl_loss  Instances       Size\n"
     ]
    },
    {
     "name": "stderr",
     "output_type": "stream",
     "text": [
      "     61/100      8.04G     0.9873     0.6518      1.089        472        640: 100%|██████████| 89/\n",
      "                 Class     Images  Instances      Box(P          R      mAP50  mAP50-95): 100%|████"
     ]
    },
    {
     "name": "stdout",
     "output_type": "stream",
     "text": [
      "                   all        458      28853       0.71      0.427      0.472      0.283\n"
     ]
    },
    {
     "name": "stderr",
     "output_type": "stream",
     "text": [
      "\n"
     ]
    },
    {
     "name": "stdout",
     "output_type": "stream",
     "text": [
      "\n",
      "      Epoch    GPU_mem   box_loss   cls_loss   dfl_loss  Instances       Size\n"
     ]
    },
    {
     "name": "stderr",
     "output_type": "stream",
     "text": [
      "     62/100      9.76G     0.9936     0.6477      1.097        661        640: 100%|██████████| 89/\n",
      "                 Class     Images  Instances      Box(P          R      mAP50  mAP50-95): 100%|████"
     ]
    },
    {
     "name": "stdout",
     "output_type": "stream",
     "text": [
      "                   all        458      28853      0.684      0.441      0.472      0.283\n"
     ]
    },
    {
     "name": "stderr",
     "output_type": "stream",
     "text": [
      "\n"
     ]
    },
    {
     "name": "stdout",
     "output_type": "stream",
     "text": [
      "\n",
      "      Epoch    GPU_mem   box_loss   cls_loss   dfl_loss  Instances       Size\n"
     ]
    },
    {
     "name": "stderr",
     "output_type": "stream",
     "text": [
      "     63/100      7.41G     0.9755     0.6434      1.114        138        640: 100%|██████████| 89/\n",
      "                 Class     Images  Instances      Box(P          R      mAP50  mAP50-95): 100%|████"
     ]
    },
    {
     "name": "stdout",
     "output_type": "stream",
     "text": [
      "                   all        458      28853      0.672      0.443      0.472      0.282\n"
     ]
    },
    {
     "name": "stderr",
     "output_type": "stream",
     "text": [
      "\n"
     ]
    },
    {
     "name": "stdout",
     "output_type": "stream",
     "text": [
      "\n",
      "      Epoch    GPU_mem   box_loss   cls_loss   dfl_loss  Instances       Size\n"
     ]
    },
    {
     "name": "stderr",
     "output_type": "stream",
     "text": [
      "     64/100      10.7G      0.981     0.6464      1.106         40        640: 100%|██████████| 89/\n",
      "                 Class     Images  Instances      Box(P          R      mAP50  mAP50-95): 100%|████"
     ]
    },
    {
     "name": "stdout",
     "output_type": "stream",
     "text": [
      "                   all        458      28853      0.691      0.433      0.467      0.282\n"
     ]
    },
    {
     "name": "stderr",
     "output_type": "stream",
     "text": [
      "\n"
     ]
    },
    {
     "name": "stdout",
     "output_type": "stream",
     "text": [
      "\n",
      "      Epoch    GPU_mem   box_loss   cls_loss   dfl_loss  Instances       Size\n"
     ]
    },
    {
     "name": "stderr",
     "output_type": "stream",
     "text": [
      "     65/100        11G     0.9758     0.6344      1.095         54        640: 100%|██████████| 89/\n",
      "                 Class     Images  Instances      Box(P          R      mAP50  mAP50-95): 100%|████"
     ]
    },
    {
     "name": "stdout",
     "output_type": "stream",
     "text": [
      "                   all        458      28853      0.754      0.417       0.47      0.281\n"
     ]
    },
    {
     "name": "stderr",
     "output_type": "stream",
     "text": [
      "\n"
     ]
    },
    {
     "name": "stdout",
     "output_type": "stream",
     "text": [
      "\n",
      "      Epoch    GPU_mem   box_loss   cls_loss   dfl_loss  Instances       Size\n"
     ]
    },
    {
     "name": "stderr",
     "output_type": "stream",
     "text": [
      "     66/100      12.4G     0.9753      0.638      1.102        404        640: 100%|██████████| 89/\n",
      "                 Class     Images  Instances      Box(P          R      mAP50  mAP50-95): 100%|████"
     ]
    },
    {
     "name": "stdout",
     "output_type": "stream",
     "text": [
      "                   all        458      28853      0.692      0.436       0.47      0.279\n"
     ]
    },
    {
     "name": "stderr",
     "output_type": "stream",
     "text": [
      "\n"
     ]
    },
    {
     "name": "stdout",
     "output_type": "stream",
     "text": [
      "\n",
      "      Epoch    GPU_mem   box_loss   cls_loss   dfl_loss  Instances       Size\n"
     ]
    },
    {
     "name": "stderr",
     "output_type": "stream",
     "text": [
      "     67/100      6.28G     0.9636     0.6404      1.087        215        640: 100%|██████████| 89/\n",
      "                 Class     Images  Instances      Box(P          R      mAP50  mAP50-95): 100%|████"
     ]
    },
    {
     "name": "stdout",
     "output_type": "stream",
     "text": [
      "                   all        458      28853      0.699      0.433      0.468      0.283\n"
     ]
    },
    {
     "name": "stderr",
     "output_type": "stream",
     "text": [
      "\n"
     ]
    },
    {
     "name": "stdout",
     "output_type": "stream",
     "text": [
      "\n",
      "      Epoch    GPU_mem   box_loss   cls_loss   dfl_loss  Instances       Size\n"
     ]
    },
    {
     "name": "stderr",
     "output_type": "stream",
     "text": [
      "     68/100      11.7G     0.9885     0.6431      1.102         18        640: 100%|██████████| 89/\n",
      "                 Class     Images  Instances      Box(P          R      mAP50  mAP50-95): 100%|████"
     ]
    },
    {
     "name": "stdout",
     "output_type": "stream",
     "text": [
      "                   all        458      28853      0.709      0.428      0.473      0.284\n"
     ]
    },
    {
     "name": "stderr",
     "output_type": "stream",
     "text": [
      "\n"
     ]
    },
    {
     "name": "stdout",
     "output_type": "stream",
     "text": [
      "\n",
      "      Epoch    GPU_mem   box_loss   cls_loss   dfl_loss  Instances       Size\n"
     ]
    },
    {
     "name": "stderr",
     "output_type": "stream",
     "text": [
      "     69/100      10.8G     0.9434     0.6166      1.091        316        640: 100%|██████████| 89/\n",
      "                 Class     Images  Instances      Box(P          R      mAP50  mAP50-95): 100%|████"
     ]
    },
    {
     "name": "stdout",
     "output_type": "stream",
     "text": [
      "                   all        458      28853      0.696      0.432      0.469       0.28\n"
     ]
    },
    {
     "name": "stderr",
     "output_type": "stream",
     "text": [
      "\n"
     ]
    },
    {
     "name": "stdout",
     "output_type": "stream",
     "text": [
      "\n",
      "      Epoch    GPU_mem   box_loss   cls_loss   dfl_loss  Instances       Size\n"
     ]
    },
    {
     "name": "stderr",
     "output_type": "stream",
     "text": [
      "     70/100      7.96G     0.9487     0.6136      1.092        104        640: 100%|██████████| 89/\n",
      "                 Class     Images  Instances      Box(P          R      mAP50  mAP50-95): 100%|████"
     ]
    },
    {
     "name": "stdout",
     "output_type": "stream",
     "text": [
      "                   all        458      28853      0.708      0.427      0.468      0.282\n"
     ]
    },
    {
     "name": "stderr",
     "output_type": "stream",
     "text": [
      "\n"
     ]
    },
    {
     "name": "stdout",
     "output_type": "stream",
     "text": [
      "\n",
      "      Epoch    GPU_mem   box_loss   cls_loss   dfl_loss  Instances       Size\n"
     ]
    },
    {
     "name": "stderr",
     "output_type": "stream",
     "text": [
      "     71/100      12.7G     0.9653     0.6331      1.095         19        640: 100%|██████████| 89/\n",
      "                 Class     Images  Instances      Box(P          R      mAP50  mAP50-95): 100%|████"
     ]
    },
    {
     "name": "stdout",
     "output_type": "stream",
     "text": [
      "                   all        458      28853      0.712      0.429      0.468      0.282\n"
     ]
    },
    {
     "name": "stderr",
     "output_type": "stream",
     "text": [
      "\n"
     ]
    },
    {
     "name": "stdout",
     "output_type": "stream",
     "text": [
      "\n",
      "      Epoch    GPU_mem   box_loss   cls_loss   dfl_loss  Instances       Size\n"
     ]
    },
    {
     "name": "stderr",
     "output_type": "stream",
     "text": [
      "     72/100        11G     0.9585     0.6185      1.091        140        640: 100%|██████████| 89/\n",
      "                 Class     Images  Instances      Box(P          R      mAP50  mAP50-95): 100%|████"
     ]
    },
    {
     "name": "stdout",
     "output_type": "stream",
     "text": [
      "                   all        458      28853       0.72      0.427      0.472      0.285\n"
     ]
    },
    {
     "name": "stderr",
     "output_type": "stream",
     "text": [
      "\n"
     ]
    },
    {
     "name": "stdout",
     "output_type": "stream",
     "text": [
      "\n",
      "      Epoch    GPU_mem   box_loss   cls_loss   dfl_loss  Instances       Size\n"
     ]
    },
    {
     "name": "stderr",
     "output_type": "stream",
     "text": [
      "     73/100      8.14G     0.9668     0.6281      1.086        114        640: 100%|██████████| 89/\n",
      "                 Class     Images  Instances      Box(P          R      mAP50  mAP50-95): 100%|████"
     ]
    },
    {
     "name": "stdout",
     "output_type": "stream",
     "text": [
      "                   all        458      28853      0.712      0.429      0.472      0.284\n"
     ]
    },
    {
     "name": "stderr",
     "output_type": "stream",
     "text": [
      "\n"
     ]
    },
    {
     "name": "stdout",
     "output_type": "stream",
     "text": [
      "\n",
      "      Epoch    GPU_mem   box_loss   cls_loss   dfl_loss  Instances       Size\n"
     ]
    },
    {
     "name": "stderr",
     "output_type": "stream",
     "text": [
      "     74/100      8.37G     0.9527     0.6206      1.098         50        640: 100%|██████████| 89/\n",
      "                 Class     Images  Instances      Box(P          R      mAP50  mAP50-95): 100%|████"
     ]
    },
    {
     "name": "stdout",
     "output_type": "stream",
     "text": [
      "                   all        458      28853      0.726      0.426      0.468      0.282\n"
     ]
    },
    {
     "name": "stderr",
     "output_type": "stream",
     "text": [
      "\n"
     ]
    },
    {
     "name": "stdout",
     "output_type": "stream",
     "text": [
      "\n",
      "      Epoch    GPU_mem   box_loss   cls_loss   dfl_loss  Instances       Size\n"
     ]
    },
    {
     "name": "stderr",
     "output_type": "stream",
     "text": [
      "     75/100      12.4G     0.9583     0.6231      1.091         77        640: 100%|██████████| 89/\n",
      "                 Class     Images  Instances      Box(P          R      mAP50  mAP50-95): 100%|████"
     ]
    },
    {
     "name": "stdout",
     "output_type": "stream",
     "text": [
      "                   all        458      28853      0.697      0.435      0.472      0.282\n"
     ]
    },
    {
     "name": "stderr",
     "output_type": "stream",
     "text": [
      "\n"
     ]
    },
    {
     "name": "stdout",
     "output_type": "stream",
     "text": [
      "\n",
      "      Epoch    GPU_mem   box_loss   cls_loss   dfl_loss  Instances       Size\n"
     ]
    },
    {
     "name": "stderr",
     "output_type": "stream",
     "text": [
      "     76/100       6.8G      0.945     0.6217      1.085         74        640: 100%|██████████| 89/\n",
      "                 Class     Images  Instances      Box(P          R      mAP50  mAP50-95): 100%|████"
     ]
    },
    {
     "name": "stdout",
     "output_type": "stream",
     "text": [
      "                   all        458      28853       0.69      0.438      0.473      0.283\n"
     ]
    },
    {
     "name": "stderr",
     "output_type": "stream",
     "text": [
      "\n"
     ]
    },
    {
     "name": "stdout",
     "output_type": "stream",
     "text": [
      "\n",
      "      Epoch    GPU_mem   box_loss   cls_loss   dfl_loss  Instances       Size\n"
     ]
    },
    {
     "name": "stderr",
     "output_type": "stream",
     "text": [
      "     77/100      9.98G     0.9397     0.6165      1.091         38        640: 100%|██████████| 89/\n",
      "                 Class     Images  Instances      Box(P          R      mAP50  mAP50-95): 100%|████"
     ]
    },
    {
     "name": "stdout",
     "output_type": "stream",
     "text": [
      "                   all        458      28853      0.728      0.429      0.472      0.283\n"
     ]
    },
    {
     "name": "stderr",
     "output_type": "stream",
     "text": [
      "\n"
     ]
    },
    {
     "name": "stdout",
     "output_type": "stream",
     "text": [
      "\n",
      "      Epoch    GPU_mem   box_loss   cls_loss   dfl_loss  Instances       Size\n"
     ]
    },
    {
     "name": "stderr",
     "output_type": "stream",
     "text": [
      "     78/100      11.5G     0.9497     0.6267      1.087         40        640: 100%|██████████| 89/\n",
      "                 Class     Images  Instances      Box(P          R      mAP50  mAP50-95): 100%|████"
     ]
    },
    {
     "name": "stdout",
     "output_type": "stream",
     "text": [
      "                   all        458      28853      0.732      0.424      0.471      0.284\n"
     ]
    },
    {
     "name": "stderr",
     "output_type": "stream",
     "text": [
      "\n"
     ]
    },
    {
     "name": "stdout",
     "output_type": "stream",
     "text": [
      "\n",
      "      Epoch    GPU_mem   box_loss   cls_loss   dfl_loss  Instances       Size\n"
     ]
    },
    {
     "name": "stderr",
     "output_type": "stream",
     "text": [
      "     79/100      14.3G      0.931     0.6048      1.081        115        640: 100%|██████████| 89/\n",
      "                 Class     Images  Instances      Box(P          R      mAP50  mAP50-95): 100%|████"
     ]
    },
    {
     "name": "stdout",
     "output_type": "stream",
     "text": [
      "                   all        458      28853       0.68      0.435      0.471      0.284\n"
     ]
    },
    {
     "name": "stderr",
     "output_type": "stream",
     "text": [
      "\n"
     ]
    },
    {
     "name": "stdout",
     "output_type": "stream",
     "text": [
      "\n",
      "      Epoch    GPU_mem   box_loss   cls_loss   dfl_loss  Instances       Size\n"
     ]
    },
    {
     "name": "stderr",
     "output_type": "stream",
     "text": [
      "     80/100      9.16G     0.9819     0.6361      1.089        285        640: 100%|██████████| 89/\n",
      "                 Class     Images  Instances      Box(P          R      mAP50  mAP50-95): 100%|████"
     ]
    },
    {
     "name": "stdout",
     "output_type": "stream",
     "text": [
      "                   all        458      28853      0.707      0.431      0.468      0.283\n"
     ]
    },
    {
     "name": "stderr",
     "output_type": "stream",
     "text": [
      "\n"
     ]
    },
    {
     "name": "stdout",
     "output_type": "stream",
     "text": [
      "\n",
      "      Epoch    GPU_mem   box_loss   cls_loss   dfl_loss  Instances       Size\n"
     ]
    },
    {
     "name": "stderr",
     "output_type": "stream",
     "text": [
      "     81/100      10.5G      0.947     0.6139      1.089        139        640: 100%|██████████| 89/\n",
      "                 Class     Images  Instances      Box(P          R      mAP50  mAP50-95): 100%|████"
     ]
    },
    {
     "name": "stdout",
     "output_type": "stream",
     "text": [
      "                   all        458      28853      0.681       0.44       0.47      0.283\n"
     ]
    },
    {
     "name": "stderr",
     "output_type": "stream",
     "text": [
      "\n"
     ]
    },
    {
     "name": "stdout",
     "output_type": "stream",
     "text": [
      "\n",
      "      Epoch    GPU_mem   box_loss   cls_loss   dfl_loss  Instances       Size\n"
     ]
    },
    {
     "name": "stderr",
     "output_type": "stream",
     "text": [
      "     82/100      12.6G     0.9346     0.6116      1.078         40        640: 100%|██████████| 89/\n",
      "                 Class     Images  Instances      Box(P          R      mAP50  mAP50-95): 100%|████"
     ]
    },
    {
     "name": "stdout",
     "output_type": "stream",
     "text": [
      "                   all        458      28853      0.699      0.432      0.471      0.282\n"
     ]
    },
    {
     "name": "stderr",
     "output_type": "stream",
     "text": [
      "\n"
     ]
    },
    {
     "name": "stdout",
     "output_type": "stream",
     "text": [
      "\n",
      "      Epoch    GPU_mem   box_loss   cls_loss   dfl_loss  Instances       Size\n"
     ]
    },
    {
     "name": "stderr",
     "output_type": "stream",
     "text": [
      "     83/100        16G     0.9514     0.6136      1.083        649        640: 100%|██████████| 89/\n",
      "                 Class     Images  Instances      Box(P          R      mAP50  mAP50-95): 100%|████"
     ]
    },
    {
     "name": "stdout",
     "output_type": "stream",
     "text": [
      "                   all        458      28853       0.73      0.423      0.469      0.282\n"
     ]
    },
    {
     "name": "stderr",
     "output_type": "stream",
     "text": [
      "\n"
     ]
    },
    {
     "name": "stdout",
     "output_type": "stream",
     "text": [
      "\n",
      "      Epoch    GPU_mem   box_loss   cls_loss   dfl_loss  Instances       Size\n"
     ]
    },
    {
     "name": "stderr",
     "output_type": "stream",
     "text": [
      "     84/100      10.2G     0.9361     0.6169      1.098        286        640: 100%|██████████| 89/\n",
      "                 Class     Images  Instances      Box(P          R      mAP50  mAP50-95): 100%|████"
     ]
    },
    {
     "name": "stdout",
     "output_type": "stream",
     "text": [
      "                   all        458      28853      0.706      0.433      0.473      0.284\n"
     ]
    },
    {
     "name": "stderr",
     "output_type": "stream",
     "text": [
      "\n"
     ]
    },
    {
     "name": "stdout",
     "output_type": "stream",
     "text": [
      "\n",
      "      Epoch    GPU_mem   box_loss   cls_loss   dfl_loss  Instances       Size\n"
     ]
    },
    {
     "name": "stderr",
     "output_type": "stream",
     "text": [
      "     85/100        11G     0.9384     0.6078      1.086        191        640: 100%|██████████| 89/\n",
      "                 Class     Images  Instances      Box(P          R      mAP50  mAP50-95): 100%|████"
     ]
    },
    {
     "name": "stdout",
     "output_type": "stream",
     "text": [
      "                   all        458      28853      0.707      0.431      0.472      0.286\n"
     ]
    },
    {
     "name": "stderr",
     "output_type": "stream",
     "text": [
      "\n"
     ]
    },
    {
     "name": "stdout",
     "output_type": "stream",
     "text": [
      "\n",
      "      Epoch    GPU_mem   box_loss   cls_loss   dfl_loss  Instances       Size\n"
     ]
    },
    {
     "name": "stderr",
     "output_type": "stream",
     "text": [
      "     86/100      12.6G     0.9474     0.6178       1.09         64        640: 100%|██████████| 89/\n",
      "                 Class     Images  Instances      Box(P          R      mAP50  mAP50-95): 100%|████"
     ]
    },
    {
     "name": "stdout",
     "output_type": "stream",
     "text": [
      "                   all        458      28853      0.693       0.44      0.474      0.286\n"
     ]
    },
    {
     "name": "stderr",
     "output_type": "stream",
     "text": [
      "\n"
     ]
    },
    {
     "name": "stdout",
     "output_type": "stream",
     "text": [
      "\n",
      "      Epoch    GPU_mem   box_loss   cls_loss   dfl_loss  Instances       Size\n"
     ]
    },
    {
     "name": "stderr",
     "output_type": "stream",
     "text": [
      "     87/100       8.8G     0.9533     0.6194       1.08        173        640: 100%|██████████| 89/\n",
      "                 Class     Images  Instances      Box(P          R      mAP50  mAP50-95): 100%|████"
     ]
    },
    {
     "name": "stdout",
     "output_type": "stream",
     "text": [
      "                   all        458      28853      0.691      0.435      0.468      0.282\n"
     ]
    },
    {
     "name": "stderr",
     "output_type": "stream",
     "text": [
      "\n"
     ]
    },
    {
     "name": "stdout",
     "output_type": "stream",
     "text": [
      "\n",
      "      Epoch    GPU_mem   box_loss   cls_loss   dfl_loss  Instances       Size\n"
     ]
    },
    {
     "name": "stderr",
     "output_type": "stream",
     "text": [
      "     88/100      11.5G     0.9301     0.6051      1.095        216        640: 100%|██████████| 89/\n",
      "                 Class     Images  Instances      Box(P          R      mAP50  mAP50-95): 100%|████"
     ]
    },
    {
     "name": "stdout",
     "output_type": "stream",
     "text": [
      "                   all        458      28853      0.709      0.433      0.471      0.284\n"
     ]
    },
    {
     "name": "stderr",
     "output_type": "stream",
     "text": [
      "\n"
     ]
    },
    {
     "name": "stdout",
     "output_type": "stream",
     "text": [
      "\n",
      "      Epoch    GPU_mem   box_loss   cls_loss   dfl_loss  Instances       Size\n"
     ]
    },
    {
     "name": "stderr",
     "output_type": "stream",
     "text": [
      "     89/100      11.8G     0.9234     0.6004      1.072        177        640: 100%|██████████| 89/\n",
      "                 Class     Images  Instances      Box(P          R      mAP50  mAP50-95): 100%|████"
     ]
    },
    {
     "name": "stdout",
     "output_type": "stream",
     "text": [
      "                   all        458      28853      0.686      0.434      0.472      0.284\n"
     ]
    },
    {
     "name": "stderr",
     "output_type": "stream",
     "text": [
      "\n"
     ]
    },
    {
     "name": "stdout",
     "output_type": "stream",
     "text": [
      "\n",
      "      Epoch    GPU_mem   box_loss   cls_loss   dfl_loss  Instances       Size\n"
     ]
    },
    {
     "name": "stderr",
     "output_type": "stream",
     "text": [
      "     90/100      13.5G     0.9415      0.613      1.085        220        640: 100%|██████████| 89/\n",
      "                 Class     Images  Instances      Box(P          R      mAP50  mAP50-95): 100%|████"
     ]
    },
    {
     "name": "stdout",
     "output_type": "stream",
     "text": [
      "                   all        458      28853      0.725      0.429      0.473      0.285\n"
     ]
    },
    {
     "name": "stderr",
     "output_type": "stream",
     "text": [
      "\n"
     ]
    },
    {
     "name": "stdout",
     "output_type": "stream",
     "text": [
      "Closing dataloader mosaic\n",
      "\n",
      "      Epoch    GPU_mem   box_loss   cls_loss   dfl_loss  Instances       Size\n"
     ]
    },
    {
     "name": "stderr",
     "output_type": "stream",
     "text": [
      "     91/100      9.07G     0.9406     0.6236      1.096       1641        640: 100%|██████████| 89/\n",
      "                 Class     Images  Instances      Box(P          R      mAP50  mAP50-95): 100%|████\n"
     ]
    },
    {
     "name": "stdout",
     "output_type": "stream",
     "text": [
      "                   all        458      28853      0.695      0.435       0.47      0.284\n",
      "\n",
      "      Epoch    GPU_mem   box_loss   cls_loss   dfl_loss  Instances       Size\n"
     ]
    },
    {
     "name": "stderr",
     "output_type": "stream",
     "text": [
      "     92/100      14.4G     0.9483     0.6155      1.089        122        640: 100%|██████████| 89/\n",
      "                 Class     Images  Instances      Box(P          R      mAP50  mAP50-95): 100%|████"
     ]
    },
    {
     "name": "stdout",
     "output_type": "stream",
     "text": [
      "                   all        458      28853      0.706      0.431      0.475      0.285\n"
     ]
    },
    {
     "name": "stderr",
     "output_type": "stream",
     "text": [
      "\n"
     ]
    },
    {
     "name": "stdout",
     "output_type": "stream",
     "text": [
      "\n",
      "      Epoch    GPU_mem   box_loss   cls_loss   dfl_loss  Instances       Size\n"
     ]
    },
    {
     "name": "stderr",
     "output_type": "stream",
     "text": [
      "     93/100      13.4G     0.9296     0.5986      1.088        482        640: 100%|██████████| 89/\n",
      "                 Class     Images  Instances      Box(P          R      mAP50  mAP50-95): 100%|████"
     ]
    },
    {
     "name": "stdout",
     "output_type": "stream",
     "text": [
      "                   all        458      28853      0.712      0.437      0.475      0.287\n"
     ]
    },
    {
     "name": "stderr",
     "output_type": "stream",
     "text": [
      "\n"
     ]
    },
    {
     "name": "stdout",
     "output_type": "stream",
     "text": [
      "\n",
      "      Epoch    GPU_mem   box_loss   cls_loss   dfl_loss  Instances       Size\n"
     ]
    },
    {
     "name": "stderr",
     "output_type": "stream",
     "text": [
      "     94/100      12.4G     0.9279     0.5977      1.078         55        640: 100%|██████████| 89/\n",
      "                 Class     Images  Instances      Box(P          R      mAP50  mAP50-95): 100%|████"
     ]
    },
    {
     "name": "stdout",
     "output_type": "stream",
     "text": [
      "                   all        458      28853      0.705      0.433      0.474      0.286\n"
     ]
    },
    {
     "name": "stderr",
     "output_type": "stream",
     "text": [
      "\n"
     ]
    },
    {
     "name": "stdout",
     "output_type": "stream",
     "text": [
      "\n",
      "      Epoch    GPU_mem   box_loss   cls_loss   dfl_loss  Instances       Size\n"
     ]
    },
    {
     "name": "stderr",
     "output_type": "stream",
     "text": [
      "     95/100      12.2G     0.9261     0.5943      1.073        405        640: 100%|██████████| 89/\n",
      "                 Class     Images  Instances      Box(P          R      mAP50  mAP50-95): 100%|████"
     ]
    },
    {
     "name": "stdout",
     "output_type": "stream",
     "text": [
      "                   all        458      28853      0.696      0.436      0.476      0.286\n"
     ]
    },
    {
     "name": "stderr",
     "output_type": "stream",
     "text": [
      "\n"
     ]
    },
    {
     "name": "stdout",
     "output_type": "stream",
     "text": [
      "\n",
      "      Epoch    GPU_mem   box_loss   cls_loss   dfl_loss  Instances       Size\n"
     ]
    },
    {
     "name": "stderr",
     "output_type": "stream",
     "text": [
      "     96/100      14.1G     0.9139     0.5904      1.093         23        640: 100%|██████████| 89/\n",
      "                 Class     Images  Instances      Box(P          R      mAP50  mAP50-95): 100%|████"
     ]
    },
    {
     "name": "stdout",
     "output_type": "stream",
     "text": [
      "                   all        458      28853      0.704      0.436      0.475      0.288\n"
     ]
    },
    {
     "name": "stderr",
     "output_type": "stream",
     "text": [
      "\n"
     ]
    },
    {
     "name": "stdout",
     "output_type": "stream",
     "text": [
      "\n",
      "      Epoch    GPU_mem   box_loss   cls_loss   dfl_loss  Instances       Size\n"
     ]
    },
    {
     "name": "stderr",
     "output_type": "stream",
     "text": [
      "     97/100      11.8G     0.9361     0.6011      1.089         33        640: 100%|██████████| 89/\n",
      "                 Class     Images  Instances      Box(P          R      mAP50  mAP50-95): 100%|████"
     ]
    },
    {
     "name": "stdout",
     "output_type": "stream",
     "text": [
      "                   all        458      28853      0.698      0.437      0.475      0.288\n"
     ]
    },
    {
     "name": "stderr",
     "output_type": "stream",
     "text": [
      "\n"
     ]
    },
    {
     "name": "stdout",
     "output_type": "stream",
     "text": [
      "\n",
      "      Epoch    GPU_mem   box_loss   cls_loss   dfl_loss  Instances       Size\n"
     ]
    },
    {
     "name": "stderr",
     "output_type": "stream",
     "text": [
      "     98/100      12.6G     0.9146     0.5829      1.091        108        640: 100%|██████████| 89/\n",
      "                 Class     Images  Instances      Box(P          R      mAP50  mAP50-95): 100%|████"
     ]
    },
    {
     "name": "stdout",
     "output_type": "stream",
     "text": [
      "                   all        458      28853      0.697      0.436      0.476      0.287\n"
     ]
    },
    {
     "name": "stderr",
     "output_type": "stream",
     "text": [
      "\n"
     ]
    },
    {
     "name": "stdout",
     "output_type": "stream",
     "text": [
      "\n",
      "      Epoch    GPU_mem   box_loss   cls_loss   dfl_loss  Instances       Size\n"
     ]
    },
    {
     "name": "stderr",
     "output_type": "stream",
     "text": [
      "     99/100      12.7G     0.9382     0.6026       1.08         11        640: 100%|██████████| 89/\n",
      "                 Class     Images  Instances      Box(P          R      mAP50  mAP50-95): 100%|████"
     ]
    },
    {
     "name": "stdout",
     "output_type": "stream",
     "text": [
      "                   all        458      28853      0.686       0.44      0.477      0.288\n"
     ]
    },
    {
     "name": "stderr",
     "output_type": "stream",
     "text": [
      "\n"
     ]
    },
    {
     "name": "stdout",
     "output_type": "stream",
     "text": [
      "\n",
      "      Epoch    GPU_mem   box_loss   cls_loss   dfl_loss  Instances       Size\n"
     ]
    },
    {
     "name": "stderr",
     "output_type": "stream",
     "text": [
      "    100/100      12.9G     0.9161      0.592      1.078         32        640: 100%|██████████| 89/\n",
      "                 Class     Images  Instances      Box(P          R      mAP50  mAP50-95): 100%|████"
     ]
    },
    {
     "name": "stdout",
     "output_type": "stream",
     "text": [
      "                   all        458      28853      0.678      0.444      0.477      0.288\n"
     ]
    },
    {
     "name": "stderr",
     "output_type": "stream",
     "text": [
      "\n"
     ]
    },
    {
     "name": "stdout",
     "output_type": "stream",
     "text": [
      "\n",
      "100 epochs completed in 0.581 hours.\n",
      "Optimizer stripped from runs\\obb\\train\\weights\\last.pt, 6.5MB\n",
      "Optimizer stripped from runs\\obb\\train\\weights\\best.pt, 6.5MB\n",
      "\n",
      "Validating runs\\obb\\train\\weights\\best.pt...\n",
      "Ultralytics YOLOv8.1.19 🚀 Python-3.11.6 torch-2.1.2+cu118 CUDA:0 (NVIDIA GeForce RTX 3090, 24576MiB)\n",
      "YOLOv8n-obb summary (fused): 187 layers, 3080144 parameters, 0 gradients, 8.3 GFLOPs\n"
     ]
    },
    {
     "name": "stderr",
     "output_type": "stream",
     "text": [
      "                 Class     Images  Instances      Box(P          R      mAP50  mAP50-95): 100%|████\n"
     ]
    },
    {
     "name": "stdout",
     "output_type": "stream",
     "text": [
      "                   all        458      28853      0.679      0.443      0.477      0.288\n",
      "                 plane        458       2531      0.785      0.655      0.685       0.42\n",
      "                  ship        458       8960      0.756      0.496      0.573      0.299\n",
      "          storage tank        458       2888      0.808      0.238      0.353      0.182\n",
      "      baseball diamond        458        214      0.792      0.445      0.534      0.334\n",
      "          tennis court        458        760      0.909      0.887       0.92      0.721\n",
      "      basketball court        458        132      0.561      0.364      0.398      0.274\n",
      "    ground track field        458        144      0.551      0.409      0.396      0.276\n",
      "                harbor        458       2090      0.546      0.558      0.504       0.22\n",
      "                bridge        458        464      0.543      0.123       0.14     0.0489\n",
      "         large vehicle        458       4387      0.759      0.792      0.805      0.488\n",
      "         small vehicle        458       5438      0.546      0.567       0.55      0.334\n",
      "            helicopter        458         73      0.858      0.249      0.399      0.198\n",
      "            roundabout        458        179      0.666      0.117      0.146     0.0886\n",
      "     soccer ball field        458        153      0.497      0.373      0.353      0.248\n",
      "         swimming pool        458        440      0.607       0.38      0.402      0.191\n",
      "Speed: 0.2ms preprocess, 1.8ms inference, 0.0ms loss, 4.2ms postprocess per image\n",
      "Results saved to \u001b[1mruns\\obb\\train\u001b[0m\n"
     ]
    }
   ],
   "source": [
    "from ultralytics import YOLO\n",
    "\n",
    "# Create a new YOLOv8n-OBB model from scratch\n",
    "model = YOLO('yolov8n-obb.pt')\n",
    "\n",
    "# Train the model on the DOTAv2 dataset\n",
    "results = model.train(data='DOTAv1.yaml', epochs=100, imgsz=640)\n",
    "\n",
    "\n",
    "# \"CLI\"\n",
    "# Train a new YOLOv8n-OBB model on the DOTAv2 dataset\n",
    "#yolo detect train data=DOTAv2.yaml model=yolov8n.pt epochs=100 imgsz=640\n",
    "\n",
    "\n",
    "# you will get a datasets -> DOTAv1 folder.  "
   ]
  },
  {
   "cell_type": "code",
   "execution_count": null,
   "id": "2acec7f5-99ba-4059-96c3-33c919523dfb",
   "metadata": {},
   "outputs": [],
   "source": []
  },
  {
   "cell_type": "code",
   "execution_count": null,
   "id": "6e2e06b6-caf4-48ee-9426-9b6b22033a49",
   "metadata": {},
   "outputs": [],
   "source": []
  },
  {
   "cell_type": "markdown",
   "id": "635f0db8-02dc-41d9-b43a-ced0b5466875",
   "metadata": {},
   "source": [
    "### Validate trained YOLOv8n-obb model accuracy on the DOTA8 dataset."
   ]
  },
  {
   "cell_type": "code",
   "execution_count": 5,
   "id": "741c0150-2884-4d9c-94f4-1af0c660bbe9",
   "metadata": {},
   "outputs": [
    {
     "name": "stdout",
     "output_type": "stream",
     "text": [
      "Ultralytics YOLOv8.1.19 🚀 Python-3.11.6 torch-2.1.2+cu118 CUDA:0 (NVIDIA GeForce RTX 3090, 24576MiB)\n",
      "YOLOv8n-obb summary (fused): 187 layers, 3080144 parameters, 0 gradients, 8.3 GFLOPs\n",
      "\n",
      "Dataset 'dota8.yaml' images not found ⚠️, missing path 'D:\\yolov8v1_env\\oriented_bounding_boxes\\datasets\\dota8\\images\\val'\n",
      "Downloading https://github.com/ultralytics/yolov5/releases/download/v1.0/dota8.zip to 'D:\\yolov8v1_env\\oriented_bounding_boxes\\datasets\\dota8.zip'...\n"
     ]
    },
    {
     "name": "stderr",
     "output_type": "stream",
     "text": [
      "100%|█████████████████████████████████████████████████████████| 1.24M/1.24M [00:00<00:00, 9.48MB/s]\n",
      "Unzipping D:\\yolov8v1_env\\oriented_bounding_boxes\\datasets\\dota8.zip to D:\\yolov8v1_env\\oriented_bo"
     ]
    },
    {
     "name": "stdout",
     "output_type": "stream",
     "text": [
      "Dataset download success ✅ (2.5s), saved to \u001b[1mD:\\yolov8v1_env\\oriented_bounding_boxes\\datasets\u001b[0m\n",
      "\n"
     ]
    },
    {
     "name": "stderr",
     "output_type": "stream",
     "text": [
      "\n",
      "\u001b[34m\u001b[1mval: \u001b[0mScanning D:\\yolov8v1_env\\oriented_bounding_boxes\\datasets\\dota8\\labels\\val... 4 images, 0 back\u001b[0m"
     ]
    },
    {
     "name": "stdout",
     "output_type": "stream",
     "text": [
      "\u001b[34m\u001b[1mval: \u001b[0mNew cache created: D:\\yolov8v1_env\\oriented_bounding_boxes\\datasets\\dota8\\labels\\val.cache\n"
     ]
    },
    {
     "name": "stderr",
     "output_type": "stream",
     "text": [
      "\n",
      "                 Class     Images  Instances      Box(P          R      mAP50  mAP50-95): 100%|████\n"
     ]
    },
    {
     "name": "stdout",
     "output_type": "stream",
     "text": [
      "                   all          4          8       0.62      0.917      0.913      0.553\n",
      "      baseball diamond          4          4      0.333       0.75      0.748      0.399\n",
      "      basketball court          4          3      0.761          1      0.995      0.863\n",
      "     soccer ball field          4          1      0.767          1      0.995      0.398\n",
      "Speed: 1.5ms preprocess, 35.0ms inference, 0.0ms loss, 4.3ms postprocess per image\n",
      "Results saved to \u001b[1mruns\\obb\\val\u001b[0m\n",
      "0.5533403174603175\n",
      "0.9125952380952381\n",
      "0.4701031746031747\n",
      "[    0.55334     0.55334     0.55334      0.3989     0.55334     0.86312     0.55334     0.55334     0.55334     0.55334     0.55334     0.55334     0.55334       0.398     0.55334]\n"
     ]
    }
   ],
   "source": [
    "from ultralytics import YOLO\n",
    "\n",
    "# Load a model\n",
    "#model = YOLO('yolov8n-obb.pt')  # load an official model\n",
    "model = YOLO('runs/obb/train/weights/best.pt')  # load a custom model\n",
    "\n",
    "# Validate the model\n",
    "metrics = model.val(data='dota8.yaml')  # no arguments needed, dataset and settings remembered\n",
    "print(metrics.box.map)    # map50-95(B)\n",
    "print(metrics.box.map50)  # map50(B)\n",
    "print(metrics.box.map75)  # map75(B)\n",
    "print(metrics.box.maps)  # a list contains map50-95(B) of each category"
   ]
  },
  {
   "cell_type": "code",
   "execution_count": null,
   "id": "bd90b420-821e-433e-a8d9-3c065cf8320d",
   "metadata": {},
   "outputs": [],
   "source": []
  },
  {
   "cell_type": "code",
   "execution_count": 29,
   "id": "682b97bd-e20b-48bd-a0df-6438fab883d4",
   "metadata": {},
   "outputs": [
    {
     "name": "stdout",
     "output_type": "stream",
     "text": [
      "\n",
      "image 1/1 D:\\yolov8v1_env\\oriented_bounding_boxes\\test_images\\a.jpg: 480x640 32.0ms\n",
      "Speed: 2.0ms preprocess, 32.0ms inference, 4.0ms postprocess per image at shape (1, 3, 480, 640)\n",
      "Results saved to \u001b[1mruns\\obb\\predict6\u001b[0m\n"
     ]
    }
   ],
   "source": [
    "from ultralytics import YOLO\n",
    "\n",
    "# Load a model\n",
    "#model = YOLO('yolov8n-obb.pt')  # load an official model\n",
    "model = YOLO('runs/obb/train/weights/best.pt')  # load a custom model\n",
    "\n",
    "# Predict with the model\n",
    "results = model('test_images',imgsz=640, save=True)  # predict on an image"
   ]
  },
  {
   "cell_type": "code",
   "execution_count": null,
   "id": "ee7667d6-c6cc-4d4e-a474-533e19a3ad17",
   "metadata": {},
   "outputs": [],
   "source": []
  },
  {
   "cell_type": "code",
   "execution_count": 20,
   "id": "64f34f95-3116-442a-8fd3-c1507a9ca4c0",
   "metadata": {},
   "outputs": [
    {
     "name": "stdout",
     "output_type": "stream",
     "text": [
      "\n",
      "image 1/1 D:\\yolov8v1_env\\oriented_bounding_boxes\\test_images\\a.jpg: 480x640 7 airplanes, 9.5ms\n",
      "Speed: 1.0ms preprocess, 9.5ms inference, 1.0ms postprocess per image at shape (1, 3, 480, 640)\n",
      "Results saved to \u001b[1mruns\\detect\\predict\u001b[0m\n"
     ]
    }
   ],
   "source": [
    "from ultralytics import YOLO\n",
    "\n",
    "# Load a model\n",
    "#model = YOLO('yolov8n-obb.pt')  # load an official model\n",
    "model = YOLO('yolov8l.pt')  # load a custom model\n",
    "\n",
    "# Predict with the model\n",
    "results = model('test_images',imgsz=640, save=True)  # predict on an image"
   ]
  },
  {
   "cell_type": "code",
   "execution_count": null,
   "id": "2463fb50-e0e4-47ff-9238-3bfa2590c3c1",
   "metadata": {},
   "outputs": [],
   "source": []
  }
 ],
 "metadata": {
  "kernelspec": {
   "display_name": "Python 3 (ipykernel)",
   "language": "python",
   "name": "python3"
  },
  "language_info": {
   "codemirror_mode": {
    "name": "ipython",
    "version": 3
   },
   "file_extension": ".py",
   "mimetype": "text/x-python",
   "name": "python",
   "nbconvert_exporter": "python",
   "pygments_lexer": "ipython3",
   "version": "3.11.6"
  }
 },
 "nbformat": 4,
 "nbformat_minor": 5
}
