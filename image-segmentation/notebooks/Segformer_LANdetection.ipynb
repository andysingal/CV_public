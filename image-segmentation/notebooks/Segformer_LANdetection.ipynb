{
  "nbformat": 4,
  "nbformat_minor": 0,
  "metadata": {
    "colab": {
      "provenance": [],
      "gpuType": "T4"
    },
    "kernelspec": {
      "name": "python3",
      "display_name": "Python 3"
    },
    "language_info": {
      "name": "python"
    },
    "accelerator": "GPU",
    "widgets": {
      "application/vnd.jupyter.widget-state+json": {
        "dc54f8a7e0c84d4f9bbe25eaeb2e971a": {
          "model_module": "@jupyter-widgets/controls",
          "model_name": "HBoxModel",
          "model_module_version": "1.5.0",
          "state": {
            "_dom_classes": [],
            "_model_module": "@jupyter-widgets/controls",
            "_model_module_version": "1.5.0",
            "_model_name": "HBoxModel",
            "_view_count": null,
            "_view_module": "@jupyter-widgets/controls",
            "_view_module_version": "1.5.0",
            "_view_name": "HBoxView",
            "box_style": "",
            "children": [
              "IPY_MODEL_8851da6468c340eb9c56ca02922baf27",
              "IPY_MODEL_233da4d380c9412594ee11a96161db16",
              "IPY_MODEL_46297600467f4b1c996109915023805a"
            ],
            "layout": "IPY_MODEL_bf6cf5affde9429690039afdd5fe9be0"
          }
        },
        "8851da6468c340eb9c56ca02922baf27": {
          "model_module": "@jupyter-widgets/controls",
          "model_name": "HTMLModel",
          "model_module_version": "1.5.0",
          "state": {
            "_dom_classes": [],
            "_model_module": "@jupyter-widgets/controls",
            "_model_module_version": "1.5.0",
            "_model_name": "HTMLModel",
            "_view_count": null,
            "_view_module": "@jupyter-widgets/controls",
            "_view_module_version": "1.5.0",
            "_view_name": "HTMLView",
            "description": "",
            "description_tooltip": null,
            "layout": "IPY_MODEL_3f0f0338264a4054b7dcd6b4e8806e09",
            "placeholder": "​",
            "style": "IPY_MODEL_44f95dedf2bd42ef98809aac69b755e0",
            "value": "config.json: 100%"
          }
        },
        "233da4d380c9412594ee11a96161db16": {
          "model_module": "@jupyter-widgets/controls",
          "model_name": "FloatProgressModel",
          "model_module_version": "1.5.0",
          "state": {
            "_dom_classes": [],
            "_model_module": "@jupyter-widgets/controls",
            "_model_module_version": "1.5.0",
            "_model_name": "FloatProgressModel",
            "_view_count": null,
            "_view_module": "@jupyter-widgets/controls",
            "_view_module_version": "1.5.0",
            "_view_name": "ProgressView",
            "bar_style": "success",
            "description": "",
            "description_tooltip": null,
            "layout": "IPY_MODEL_cc44869249ae456f893e1cb850ec94c1",
            "max": 6885,
            "min": 0,
            "orientation": "horizontal",
            "style": "IPY_MODEL_70c9f897f2244825a52fc03bb3db533d",
            "value": 6885
          }
        },
        "46297600467f4b1c996109915023805a": {
          "model_module": "@jupyter-widgets/controls",
          "model_name": "HTMLModel",
          "model_module_version": "1.5.0",
          "state": {
            "_dom_classes": [],
            "_model_module": "@jupyter-widgets/controls",
            "_model_module_version": "1.5.0",
            "_model_name": "HTMLModel",
            "_view_count": null,
            "_view_module": "@jupyter-widgets/controls",
            "_view_module_version": "1.5.0",
            "_view_name": "HTMLView",
            "description": "",
            "description_tooltip": null,
            "layout": "IPY_MODEL_bd4adb270f524d4f872b8871bc984c5d",
            "placeholder": "​",
            "style": "IPY_MODEL_62a3d2cc6e5a4875867e3ee82b9f14d1",
            "value": " 6.88k/6.88k [00:00&lt;00:00, 381kB/s]"
          }
        },
        "bf6cf5affde9429690039afdd5fe9be0": {
          "model_module": "@jupyter-widgets/base",
          "model_name": "LayoutModel",
          "model_module_version": "1.2.0",
          "state": {
            "_model_module": "@jupyter-widgets/base",
            "_model_module_version": "1.2.0",
            "_model_name": "LayoutModel",
            "_view_count": null,
            "_view_module": "@jupyter-widgets/base",
            "_view_module_version": "1.2.0",
            "_view_name": "LayoutView",
            "align_content": null,
            "align_items": null,
            "align_self": null,
            "border": null,
            "bottom": null,
            "display": null,
            "flex": null,
            "flex_flow": null,
            "grid_area": null,
            "grid_auto_columns": null,
            "grid_auto_flow": null,
            "grid_auto_rows": null,
            "grid_column": null,
            "grid_gap": null,
            "grid_row": null,
            "grid_template_areas": null,
            "grid_template_columns": null,
            "grid_template_rows": null,
            "height": null,
            "justify_content": null,
            "justify_items": null,
            "left": null,
            "margin": null,
            "max_height": null,
            "max_width": null,
            "min_height": null,
            "min_width": null,
            "object_fit": null,
            "object_position": null,
            "order": null,
            "overflow": null,
            "overflow_x": null,
            "overflow_y": null,
            "padding": null,
            "right": null,
            "top": null,
            "visibility": null,
            "width": null
          }
        },
        "3f0f0338264a4054b7dcd6b4e8806e09": {
          "model_module": "@jupyter-widgets/base",
          "model_name": "LayoutModel",
          "model_module_version": "1.2.0",
          "state": {
            "_model_module": "@jupyter-widgets/base",
            "_model_module_version": "1.2.0",
            "_model_name": "LayoutModel",
            "_view_count": null,
            "_view_module": "@jupyter-widgets/base",
            "_view_module_version": "1.2.0",
            "_view_name": "LayoutView",
            "align_content": null,
            "align_items": null,
            "align_self": null,
            "border": null,
            "bottom": null,
            "display": null,
            "flex": null,
            "flex_flow": null,
            "grid_area": null,
            "grid_auto_columns": null,
            "grid_auto_flow": null,
            "grid_auto_rows": null,
            "grid_column": null,
            "grid_gap": null,
            "grid_row": null,
            "grid_template_areas": null,
            "grid_template_columns": null,
            "grid_template_rows": null,
            "height": null,
            "justify_content": null,
            "justify_items": null,
            "left": null,
            "margin": null,
            "max_height": null,
            "max_width": null,
            "min_height": null,
            "min_width": null,
            "object_fit": null,
            "object_position": null,
            "order": null,
            "overflow": null,
            "overflow_x": null,
            "overflow_y": null,
            "padding": null,
            "right": null,
            "top": null,
            "visibility": null,
            "width": null
          }
        },
        "44f95dedf2bd42ef98809aac69b755e0": {
          "model_module": "@jupyter-widgets/controls",
          "model_name": "DescriptionStyleModel",
          "model_module_version": "1.5.0",
          "state": {
            "_model_module": "@jupyter-widgets/controls",
            "_model_module_version": "1.5.0",
            "_model_name": "DescriptionStyleModel",
            "_view_count": null,
            "_view_module": "@jupyter-widgets/base",
            "_view_module_version": "1.2.0",
            "_view_name": "StyleView",
            "description_width": ""
          }
        },
        "cc44869249ae456f893e1cb850ec94c1": {
          "model_module": "@jupyter-widgets/base",
          "model_name": "LayoutModel",
          "model_module_version": "1.2.0",
          "state": {
            "_model_module": "@jupyter-widgets/base",
            "_model_module_version": "1.2.0",
            "_model_name": "LayoutModel",
            "_view_count": null,
            "_view_module": "@jupyter-widgets/base",
            "_view_module_version": "1.2.0",
            "_view_name": "LayoutView",
            "align_content": null,
            "align_items": null,
            "align_self": null,
            "border": null,
            "bottom": null,
            "display": null,
            "flex": null,
            "flex_flow": null,
            "grid_area": null,
            "grid_auto_columns": null,
            "grid_auto_flow": null,
            "grid_auto_rows": null,
            "grid_column": null,
            "grid_gap": null,
            "grid_row": null,
            "grid_template_areas": null,
            "grid_template_columns": null,
            "grid_template_rows": null,
            "height": null,
            "justify_content": null,
            "justify_items": null,
            "left": null,
            "margin": null,
            "max_height": null,
            "max_width": null,
            "min_height": null,
            "min_width": null,
            "object_fit": null,
            "object_position": null,
            "order": null,
            "overflow": null,
            "overflow_x": null,
            "overflow_y": null,
            "padding": null,
            "right": null,
            "top": null,
            "visibility": null,
            "width": null
          }
        },
        "70c9f897f2244825a52fc03bb3db533d": {
          "model_module": "@jupyter-widgets/controls",
          "model_name": "ProgressStyleModel",
          "model_module_version": "1.5.0",
          "state": {
            "_model_module": "@jupyter-widgets/controls",
            "_model_module_version": "1.5.0",
            "_model_name": "ProgressStyleModel",
            "_view_count": null,
            "_view_module": "@jupyter-widgets/base",
            "_view_module_version": "1.2.0",
            "_view_name": "StyleView",
            "bar_color": null,
            "description_width": ""
          }
        },
        "bd4adb270f524d4f872b8871bc984c5d": {
          "model_module": "@jupyter-widgets/base",
          "model_name": "LayoutModel",
          "model_module_version": "1.2.0",
          "state": {
            "_model_module": "@jupyter-widgets/base",
            "_model_module_version": "1.2.0",
            "_model_name": "LayoutModel",
            "_view_count": null,
            "_view_module": "@jupyter-widgets/base",
            "_view_module_version": "1.2.0",
            "_view_name": "LayoutView",
            "align_content": null,
            "align_items": null,
            "align_self": null,
            "border": null,
            "bottom": null,
            "display": null,
            "flex": null,
            "flex_flow": null,
            "grid_area": null,
            "grid_auto_columns": null,
            "grid_auto_flow": null,
            "grid_auto_rows": null,
            "grid_column": null,
            "grid_gap": null,
            "grid_row": null,
            "grid_template_areas": null,
            "grid_template_columns": null,
            "grid_template_rows": null,
            "height": null,
            "justify_content": null,
            "justify_items": null,
            "left": null,
            "margin": null,
            "max_height": null,
            "max_width": null,
            "min_height": null,
            "min_width": null,
            "object_fit": null,
            "object_position": null,
            "order": null,
            "overflow": null,
            "overflow_x": null,
            "overflow_y": null,
            "padding": null,
            "right": null,
            "top": null,
            "visibility": null,
            "width": null
          }
        },
        "62a3d2cc6e5a4875867e3ee82b9f14d1": {
          "model_module": "@jupyter-widgets/controls",
          "model_name": "DescriptionStyleModel",
          "model_module_version": "1.5.0",
          "state": {
            "_model_module": "@jupyter-widgets/controls",
            "_model_module_version": "1.5.0",
            "_model_name": "DescriptionStyleModel",
            "_view_count": null,
            "_view_module": "@jupyter-widgets/base",
            "_view_module_version": "1.2.0",
            "_view_name": "StyleView",
            "description_width": ""
          }
        },
        "a7a844df4bc94d5e89fb46fd79bed784": {
          "model_module": "@jupyter-widgets/controls",
          "model_name": "HBoxModel",
          "model_module_version": "1.5.0",
          "state": {
            "_dom_classes": [],
            "_model_module": "@jupyter-widgets/controls",
            "_model_module_version": "1.5.0",
            "_model_name": "HBoxModel",
            "_view_count": null,
            "_view_module": "@jupyter-widgets/controls",
            "_view_module_version": "1.5.0",
            "_view_name": "HBoxView",
            "box_style": "",
            "children": [
              "IPY_MODEL_20ff53ffb2ec4a77944c9c85f8c5f84e",
              "IPY_MODEL_f26580694d0f4a6193dc16bac32c9d15",
              "IPY_MODEL_5fed2df9f6da42fc89911b48d375b731"
            ],
            "layout": "IPY_MODEL_af16da4d01ba47e3bd3ce036ba9c88e3"
          }
        },
        "20ff53ffb2ec4a77944c9c85f8c5f84e": {
          "model_module": "@jupyter-widgets/controls",
          "model_name": "HTMLModel",
          "model_module_version": "1.5.0",
          "state": {
            "_dom_classes": [],
            "_model_module": "@jupyter-widgets/controls",
            "_model_module_version": "1.5.0",
            "_model_name": "HTMLModel",
            "_view_count": null,
            "_view_module": "@jupyter-widgets/controls",
            "_view_module_version": "1.5.0",
            "_view_name": "HTMLView",
            "description": "",
            "description_tooltip": null,
            "layout": "IPY_MODEL_78717ac1a731437bb727dd059361cd7e",
            "placeholder": "​",
            "style": "IPY_MODEL_453eac61d78b463eba752203f5d55c9a",
            "value": "pytorch_model.bin: 100%"
          }
        },
        "f26580694d0f4a6193dc16bac32c9d15": {
          "model_module": "@jupyter-widgets/controls",
          "model_name": "FloatProgressModel",
          "model_module_version": "1.5.0",
          "state": {
            "_dom_classes": [],
            "_model_module": "@jupyter-widgets/controls",
            "_model_module_version": "1.5.0",
            "_model_name": "FloatProgressModel",
            "_view_count": null,
            "_view_module": "@jupyter-widgets/controls",
            "_view_module_version": "1.5.0",
            "_view_name": "ProgressView",
            "bar_style": "success",
            "description": "",
            "description_tooltip": null,
            "layout": "IPY_MODEL_48e8d730ed7c4919b08bffe122c0ee3c",
            "max": 110000905,
            "min": 0,
            "orientation": "horizontal",
            "style": "IPY_MODEL_5c19e0ac57ac416b820c990f54d174ca",
            "value": 110000905
          }
        },
        "5fed2df9f6da42fc89911b48d375b731": {
          "model_module": "@jupyter-widgets/controls",
          "model_name": "HTMLModel",
          "model_module_version": "1.5.0",
          "state": {
            "_dom_classes": [],
            "_model_module": "@jupyter-widgets/controls",
            "_model_module_version": "1.5.0",
            "_model_name": "HTMLModel",
            "_view_count": null,
            "_view_module": "@jupyter-widgets/controls",
            "_view_module_version": "1.5.0",
            "_view_name": "HTMLView",
            "description": "",
            "description_tooltip": null,
            "layout": "IPY_MODEL_c0ee23a44ee24e48aa7183adc4b349a3",
            "placeholder": "​",
            "style": "IPY_MODEL_4f7258709a614bda85fb85d4c6af6e81",
            "value": " 110M/110M [00:00&lt;00:00, 306MB/s]"
          }
        },
        "af16da4d01ba47e3bd3ce036ba9c88e3": {
          "model_module": "@jupyter-widgets/base",
          "model_name": "LayoutModel",
          "model_module_version": "1.2.0",
          "state": {
            "_model_module": "@jupyter-widgets/base",
            "_model_module_version": "1.2.0",
            "_model_name": "LayoutModel",
            "_view_count": null,
            "_view_module": "@jupyter-widgets/base",
            "_view_module_version": "1.2.0",
            "_view_name": "LayoutView",
            "align_content": null,
            "align_items": null,
            "align_self": null,
            "border": null,
            "bottom": null,
            "display": null,
            "flex": null,
            "flex_flow": null,
            "grid_area": null,
            "grid_auto_columns": null,
            "grid_auto_flow": null,
            "grid_auto_rows": null,
            "grid_column": null,
            "grid_gap": null,
            "grid_row": null,
            "grid_template_areas": null,
            "grid_template_columns": null,
            "grid_template_rows": null,
            "height": null,
            "justify_content": null,
            "justify_items": null,
            "left": null,
            "margin": null,
            "max_height": null,
            "max_width": null,
            "min_height": null,
            "min_width": null,
            "object_fit": null,
            "object_position": null,
            "order": null,
            "overflow": null,
            "overflow_x": null,
            "overflow_y": null,
            "padding": null,
            "right": null,
            "top": null,
            "visibility": null,
            "width": null
          }
        },
        "78717ac1a731437bb727dd059361cd7e": {
          "model_module": "@jupyter-widgets/base",
          "model_name": "LayoutModel",
          "model_module_version": "1.2.0",
          "state": {
            "_model_module": "@jupyter-widgets/base",
            "_model_module_version": "1.2.0",
            "_model_name": "LayoutModel",
            "_view_count": null,
            "_view_module": "@jupyter-widgets/base",
            "_view_module_version": "1.2.0",
            "_view_name": "LayoutView",
            "align_content": null,
            "align_items": null,
            "align_self": null,
            "border": null,
            "bottom": null,
            "display": null,
            "flex": null,
            "flex_flow": null,
            "grid_area": null,
            "grid_auto_columns": null,
            "grid_auto_flow": null,
            "grid_auto_rows": null,
            "grid_column": null,
            "grid_gap": null,
            "grid_row": null,
            "grid_template_areas": null,
            "grid_template_columns": null,
            "grid_template_rows": null,
            "height": null,
            "justify_content": null,
            "justify_items": null,
            "left": null,
            "margin": null,
            "max_height": null,
            "max_width": null,
            "min_height": null,
            "min_width": null,
            "object_fit": null,
            "object_position": null,
            "order": null,
            "overflow": null,
            "overflow_x": null,
            "overflow_y": null,
            "padding": null,
            "right": null,
            "top": null,
            "visibility": null,
            "width": null
          }
        },
        "453eac61d78b463eba752203f5d55c9a": {
          "model_module": "@jupyter-widgets/controls",
          "model_name": "DescriptionStyleModel",
          "model_module_version": "1.5.0",
          "state": {
            "_model_module": "@jupyter-widgets/controls",
            "_model_module_version": "1.5.0",
            "_model_name": "DescriptionStyleModel",
            "_view_count": null,
            "_view_module": "@jupyter-widgets/base",
            "_view_module_version": "1.2.0",
            "_view_name": "StyleView",
            "description_width": ""
          }
        },
        "48e8d730ed7c4919b08bffe122c0ee3c": {
          "model_module": "@jupyter-widgets/base",
          "model_name": "LayoutModel",
          "model_module_version": "1.2.0",
          "state": {
            "_model_module": "@jupyter-widgets/base",
            "_model_module_version": "1.2.0",
            "_model_name": "LayoutModel",
            "_view_count": null,
            "_view_module": "@jupyter-widgets/base",
            "_view_module_version": "1.2.0",
            "_view_name": "LayoutView",
            "align_content": null,
            "align_items": null,
            "align_self": null,
            "border": null,
            "bottom": null,
            "display": null,
            "flex": null,
            "flex_flow": null,
            "grid_area": null,
            "grid_auto_columns": null,
            "grid_auto_flow": null,
            "grid_auto_rows": null,
            "grid_column": null,
            "grid_gap": null,
            "grid_row": null,
            "grid_template_areas": null,
            "grid_template_columns": null,
            "grid_template_rows": null,
            "height": null,
            "justify_content": null,
            "justify_items": null,
            "left": null,
            "margin": null,
            "max_height": null,
            "max_width": null,
            "min_height": null,
            "min_width": null,
            "object_fit": null,
            "object_position": null,
            "order": null,
            "overflow": null,
            "overflow_x": null,
            "overflow_y": null,
            "padding": null,
            "right": null,
            "top": null,
            "visibility": null,
            "width": null
          }
        },
        "5c19e0ac57ac416b820c990f54d174ca": {
          "model_module": "@jupyter-widgets/controls",
          "model_name": "ProgressStyleModel",
          "model_module_version": "1.5.0",
          "state": {
            "_model_module": "@jupyter-widgets/controls",
            "_model_module_version": "1.5.0",
            "_model_name": "ProgressStyleModel",
            "_view_count": null,
            "_view_module": "@jupyter-widgets/base",
            "_view_module_version": "1.2.0",
            "_view_name": "StyleView",
            "bar_color": null,
            "description_width": ""
          }
        },
        "c0ee23a44ee24e48aa7183adc4b349a3": {
          "model_module": "@jupyter-widgets/base",
          "model_name": "LayoutModel",
          "model_module_version": "1.2.0",
          "state": {
            "_model_module": "@jupyter-widgets/base",
            "_model_module_version": "1.2.0",
            "_model_name": "LayoutModel",
            "_view_count": null,
            "_view_module": "@jupyter-widgets/base",
            "_view_module_version": "1.2.0",
            "_view_name": "LayoutView",
            "align_content": null,
            "align_items": null,
            "align_self": null,
            "border": null,
            "bottom": null,
            "display": null,
            "flex": null,
            "flex_flow": null,
            "grid_area": null,
            "grid_auto_columns": null,
            "grid_auto_flow": null,
            "grid_auto_rows": null,
            "grid_column": null,
            "grid_gap": null,
            "grid_row": null,
            "grid_template_areas": null,
            "grid_template_columns": null,
            "grid_template_rows": null,
            "height": null,
            "justify_content": null,
            "justify_items": null,
            "left": null,
            "margin": null,
            "max_height": null,
            "max_width": null,
            "min_height": null,
            "min_width": null,
            "object_fit": null,
            "object_position": null,
            "order": null,
            "overflow": null,
            "overflow_x": null,
            "overflow_y": null,
            "padding": null,
            "right": null,
            "top": null,
            "visibility": null,
            "width": null
          }
        },
        "4f7258709a614bda85fb85d4c6af6e81": {
          "model_module": "@jupyter-widgets/controls",
          "model_name": "DescriptionStyleModel",
          "model_module_version": "1.5.0",
          "state": {
            "_model_module": "@jupyter-widgets/controls",
            "_model_module_version": "1.5.0",
            "_model_name": "DescriptionStyleModel",
            "_view_count": null,
            "_view_module": "@jupyter-widgets/base",
            "_view_module_version": "1.2.0",
            "_view_name": "StyleView",
            "description_width": ""
          }
        }
      }
    }
  },
  "cells": [
    {
      "cell_type": "code",
      "execution_count": 1,
      "metadata": {
        "colab": {
          "base_uri": "https://localhost:8080/"
        },
        "id": "tHyhoEGrPhHM",
        "outputId": "b32a045d-9873-44a7-8242-4dc91c032b62"
      },
      "outputs": [
        {
          "output_type": "stream",
          "name": "stdout",
          "text": [
            "\u001b[?25l     \u001b[90m━━━━━━━━━━━━━━━━━━━━━━━━━━━━━━━━━━━━━━━━\u001b[0m \u001b[32m0.0/542.0 kB\u001b[0m \u001b[31m?\u001b[0m eta \u001b[36m-:--:--\u001b[0m\r\u001b[2K     \u001b[91m━━━━━━━━━━━━━━━\u001b[0m\u001b[91m╸\u001b[0m\u001b[90m━━━━━━━━━━━━━━━━━━━━━━━━\u001b[0m \u001b[32m215.0/542.0 kB\u001b[0m \u001b[31m6.2 MB/s\u001b[0m eta \u001b[36m0:00:01\u001b[0m\r\u001b[2K     \u001b[90m━━━━━━━━━━━━━━━━━━━━━━━━━━━━━━━━━━━━━━━━\u001b[0m \u001b[32m542.0/542.0 kB\u001b[0m \u001b[31m10.1 MB/s\u001b[0m eta \u001b[36m0:00:00\u001b[0m\n",
            "\u001b[2K     \u001b[90m━━━━━━━━━━━━━━━━━━━━━━━━━━━━━━━━━━━━━━━━\u001b[0m \u001b[32m84.1/84.1 kB\u001b[0m \u001b[31m12.4 MB/s\u001b[0m eta \u001b[36m0:00:00\u001b[0m\n",
            "\u001b[2K     \u001b[90m━━━━━━━━━━━━━━━━━━━━━━━━━━━━━━━━━━━━━━━━\u001b[0m \u001b[32m62.2/62.2 MB\u001b[0m \u001b[31m13.0 MB/s\u001b[0m eta \u001b[36m0:00:00\u001b[0m\n",
            "\u001b[2K     \u001b[90m━━━━━━━━━━━━━━━━━━━━━━━━━━━━━━━━━━━━━━━━\u001b[0m \u001b[32m116.3/116.3 kB\u001b[0m \u001b[31m15.2 MB/s\u001b[0m eta \u001b[36m0:00:00\u001b[0m\n",
            "\u001b[2K     \u001b[90m━━━━━━━━━━━━━━━━━━━━━━━━━━━━━━━━━━━━━━━━\u001b[0m \u001b[32m194.1/194.1 kB\u001b[0m \u001b[31m27.9 MB/s\u001b[0m eta \u001b[36m0:00:00\u001b[0m\n",
            "\u001b[2K     \u001b[90m━━━━━━━━━━━━━━━━━━━━━━━━━━━━━━━━━━━━━━━━\u001b[0m \u001b[32m134.8/134.8 kB\u001b[0m \u001b[31m20.1 MB/s\u001b[0m eta \u001b[36m0:00:00\u001b[0m\n",
            "\u001b[2K     \u001b[90m━━━━━━━━━━━━━━━━━━━━━━━━━━━━━━━━━━━━━━━━\u001b[0m \u001b[32m388.9/388.9 kB\u001b[0m \u001b[31m45.2 MB/s\u001b[0m eta \u001b[36m0:00:00\u001b[0m\n",
            "\u001b[?25h"
          ]
        }
      ],
      "source": [
        "!pip install transformers datasets evaluate opencv-python -qU"
      ]
    },
    {
      "cell_type": "code",
      "source": [
        "import os\n",
        "import cv2\n",
        "import numpy as np\n",
        "import copy\n",
        "from tqdm import tqdm\n",
        "import requests\n",
        "from PIL import Image\n",
        "\n",
        "import torch\n",
        "from torch.utils.data import Dataset, DataLoader\n",
        "from torchvision.transforms.functional import to_tensor\n",
        "from torchvision import transforms as TF\n",
        "import torch.nn.functional as F\n",
        "from torch.optim import AdamW\n",
        "\n",
        "from transformers import SegformerForSemanticSegmentation\n",
        "from transformers import get_scheduler\n",
        "\n",
        "from sklearn.metrics import jaccard_score"
      ],
      "metadata": {
        "id": "nIWI63XCQpmF"
      },
      "execution_count": 6,
      "outputs": []
    },
    {
      "cell_type": "code",
      "source": [
        "def download_dataset(url, local_filename):\n",
        "\n",
        "    # Update Dropbox link to force download\n",
        "    if \"www.dropbox.com\" in url and \"?dl=0\" in url:\n",
        "        url = url.replace(\"?dl=0\", \"?dl=1\")\n",
        "\n",
        "    # Send a GET request to the URL\n",
        "    response = requests.get(url)\n",
        "\n",
        "    # Check if the request was successful\n",
        "    if response.status_code == 200:\n",
        "        # Write the content of the response to a file\n",
        "        with open(local_filename, 'wb') as f:\n",
        "            f.write(response.content)\n",
        "        print(f\"File downloaded and saved as {local_filename}\")\n",
        "    else:\n",
        "        print(f\"Failed to download file. Status code: {response.status_code}\")"
      ],
      "metadata": {
        "id": "5N8HM_NkQ6M5"
      },
      "execution_count": 3,
      "outputs": []
    },
    {
      "cell_type": "code",
      "source": [
        "# Download 10% sample of BDD100K Dataset\n",
        "download_dataset('https://www.dropbox.com/scl/fi/40onxgztkbtqxvsg2d6fk/deep_drive_10K.zip?rlkey=8h098tbe9dry81jidtte1d9j5&dl=1', 'BDD.zip')"
      ],
      "metadata": {
        "colab": {
          "base_uri": "https://localhost:8080/"
        },
        "id": "99KzN8h-Q8yo",
        "outputId": "6bf29a6d-de5e-46e8-bf51-13d55055c009"
      },
      "execution_count": 4,
      "outputs": [
        {
          "output_type": "stream",
          "name": "stdout",
          "text": [
            "File downloaded and saved as BDD.zip\n"
          ]
        }
      ]
    },
    {
      "cell_type": "markdown",
      "source": [
        "### Preprocessing\n",
        "\n",
        "The primary purpose of the ‘BDDDataset’ class is to efficiently load and preprocess image data and their corresponding segmentation masks from a specified directory. It’s responsible for the below functionalities:\n",
        "\n",
        "Loads an image and its corresponding mask using their paths.\n",
        "The image is converted to RGB format, while the mask is converted to grayscale (single channel).\n",
        "The mask is then transformed into a binary format, where non-zero pixels are considered part of the lane (assuming lane segmentation task).\n",
        "The mask is resized to match the image dimensions and then converted to a tensor.\n",
        "Finally, the mask is also thresholded back to binary values and converted to a LongTensor, suitable for segmentation tasks in PyTorch."
      ],
      "metadata": {
        "id": "TfDdRr7sR7X3"
      }
    },
    {
      "cell_type": "code",
      "source": [
        "class BDDDataset(Dataset):\n",
        "    def __init__(self, images_dir, masks_dir, transform=None):\n",
        "        self.images_dir = images_dir\n",
        "        self.masks_dir = masks_dir\n",
        "        self.transform = transform\n",
        "        self.images = [img for img in os.listdir(images_dir) if img.endswith('.jpg')]\n",
        "        self.masks = [mask.replace('.jpg', '.png') for mask in self.images]\n",
        "\n",
        "    def __len__(self):\n",
        "        return len(self.images)\n",
        "\n",
        "    def __getitem__(self, idx):\n",
        "        image_path = os.path.join(self.images_dir, self.images[idx])\n",
        "        mask_path = os.path.join(self.masks_dir, self.masks[idx])\n",
        "        image = Image.open(image_path).convert(\"RGB\")\n",
        "        mask = Image.open(mask_path).convert('L')  # Convert mask to grayscale\n",
        "\n",
        "        # Convert mask to binary format with 0 and 1 values\n",
        "        mask = np.array(mask)\n",
        "        mask = (mask > 0).astype(np.uint8)  # Assuming non-zero pixels are lanes\n",
        "\n",
        "        # Convert to PIL Image for consistency in transforms\n",
        "        mask = Image.fromarray(mask)\n",
        "\n",
        "        if self.transform:\n",
        "            image = self.transform(image)\n",
        "            # Assuming to_tensor transform is included which scales pixel values between 0-1\n",
        "            # mask = to_tensor(mask)  # Convert the mask to [0, 1] range\n",
        "        mask = TF.functional.resize(img=mask, size=[360, 640], interpolation=Image.NEAREST)\n",
        "        mask = TF.functional.to_tensor(mask)\n",
        "        mask = (mask > 0).long()  # Threshold back to binary and convert to LongTensor\n",
        "\n",
        "        return image, mask\n",
        "\n",
        "def mean_iou(preds, labels, num_classes):\n",
        "    # Flatten predictions and labels\n",
        "    preds_flat = preds.view(-1)\n",
        "    labels_flat = labels.view(-1)\n",
        "\n",
        "    # Check that the number of elements in the flattened predictions\n",
        "    # and labels are equal\n",
        "    if preds_flat.shape[0] != labels_flat.shape[0]:\n",
        "        raise ValueError(f\"Predictions and labels have mismatched shapes: \"\n",
        "                         f\"{preds_flat.shape} vs {labels_flat.shape}\")\n",
        "\n",
        "    # Calculate the Jaccard score for each class\n",
        "    iou = jaccard_score(labels_flat.cpu().numpy(), preds_flat.cpu().numpy(),\n",
        "                        average=None, labels=range(num_classes))\n",
        "\n",
        "    # Return the mean IoU\n",
        "    return np.mean(iou)"
      ],
      "metadata": {
        "id": "rs0x2Zm8RQux"
      },
      "execution_count": 5,
      "outputs": []
    },
    {
      "cell_type": "code",
      "source": [
        "# !unzip BDD.zip"
      ],
      "metadata": {
        "id": "NAsww03dRdkw"
      },
      "execution_count": 8,
      "outputs": []
    },
    {
      "cell_type": "code",
      "source": [
        "# Define the appropriate transformations\n",
        "transform = TF.Compose([\n",
        "    TF.Resize((360, 640)),\n",
        "    TF.ToTensor(),\n",
        "    TF.Normalize(mean=[0.485, 0.456, 0.406], std=[0.229, 0.224, 0.225])\n",
        "])\n",
        "\n",
        "# Create the dataset\n",
        "train_dataset = BDDDataset(images_dir='deep_drive_10K/train/images',\n",
        "                           masks_dir='deep_drive_10K/train/masks',\n",
        "                           transform=transform)\n",
        "\n",
        "valid_dataset = BDDDataset(images_dir='deep_drive_10K/valid/images',\n",
        "                           masks_dir='deep_drive_10K/valid/masks',\n",
        "                           transform=transform)\n",
        "\n",
        "# Create the data loaders\n",
        "train_loader = DataLoader(train_dataset, batch_size=4, shuffle=True, num_workers=6)\n",
        "valid_loader = DataLoader(valid_dataset, batch_size=4, shuffle=False, num_workers=6)"
      ],
      "metadata": {
        "colab": {
          "base_uri": "https://localhost:8080/"
        },
        "id": "tHs4j9CERiAG",
        "outputId": "0230f057-adb6-40b6-c19b-0a595fa23339"
      },
      "execution_count": 9,
      "outputs": [
        {
          "output_type": "stream",
          "name": "stderr",
          "text": [
            "/usr/local/lib/python3.10/dist-packages/torch/utils/data/dataloader.py:558: UserWarning: This DataLoader will create 6 worker processes in total. Our suggested max number of worker in current system is 2, which is smaller than what this DataLoader is going to create. Please be aware that excessive worker creation might get DataLoader running slow or even freeze, lower the worker number to avoid potential slowness/freeze if necessary.\n",
            "  warnings.warn(_create_warning_msg(\n"
          ]
        }
      ]
    },
    {
      "cell_type": "code",
      "source": [
        "# Load the pre-trained model\n",
        "model = SegformerForSemanticSegmentation.from_pretrained('nvidia/segformer-b2-finetuned-ade-512-512')\n",
        "\n",
        "# Adjust the number of classes for BDD dataset\n",
        "model.config.num_labels = 2  # Replace with the actual number of classes"
      ],
      "metadata": {
        "colab": {
          "base_uri": "https://localhost:8080/",
          "height": 185,
          "referenced_widgets": [
            "dc54f8a7e0c84d4f9bbe25eaeb2e971a",
            "8851da6468c340eb9c56ca02922baf27",
            "233da4d380c9412594ee11a96161db16",
            "46297600467f4b1c996109915023805a",
            "bf6cf5affde9429690039afdd5fe9be0",
            "3f0f0338264a4054b7dcd6b4e8806e09",
            "44f95dedf2bd42ef98809aac69b755e0",
            "cc44869249ae456f893e1cb850ec94c1",
            "70c9f897f2244825a52fc03bb3db533d",
            "bd4adb270f524d4f872b8871bc984c5d",
            "62a3d2cc6e5a4875867e3ee82b9f14d1",
            "a7a844df4bc94d5e89fb46fd79bed784",
            "20ff53ffb2ec4a77944c9c85f8c5f84e",
            "f26580694d0f4a6193dc16bac32c9d15",
            "5fed2df9f6da42fc89911b48d375b731",
            "af16da4d01ba47e3bd3ce036ba9c88e3",
            "78717ac1a731437bb727dd059361cd7e",
            "453eac61d78b463eba752203f5d55c9a",
            "48e8d730ed7c4919b08bffe122c0ee3c",
            "5c19e0ac57ac416b820c990f54d174ca",
            "c0ee23a44ee24e48aa7183adc4b349a3",
            "4f7258709a614bda85fb85d4c6af6e81"
          ]
        },
        "id": "eVMm3UUCSKcd",
        "outputId": "b4d62ee8-63f0-4e7e-ccbd-5d4f447c1280"
      },
      "execution_count": 10,
      "outputs": [
        {
          "output_type": "stream",
          "name": "stderr",
          "text": [
            "/usr/local/lib/python3.10/dist-packages/huggingface_hub/utils/_token.py:89: UserWarning: \n",
            "The secret `HF_TOKEN` does not exist in your Colab secrets.\n",
            "To authenticate with the Hugging Face Hub, create a token in your settings tab (https://huggingface.co/settings/tokens), set it as secret in your Google Colab and restart your session.\n",
            "You will be able to reuse this secret in all of your notebooks.\n",
            "Please note that authentication is recommended but still optional to access public models or datasets.\n",
            "  warnings.warn(\n"
          ]
        },
        {
          "output_type": "display_data",
          "data": {
            "text/plain": [
              "config.json:   0%|          | 0.00/6.88k [00:00<?, ?B/s]"
            ],
            "application/vnd.jupyter.widget-view+json": {
              "version_major": 2,
              "version_minor": 0,
              "model_id": "dc54f8a7e0c84d4f9bbe25eaeb2e971a"
            }
          },
          "metadata": {}
        },
        {
          "output_type": "display_data",
          "data": {
            "text/plain": [
              "pytorch_model.bin:   0%|          | 0.00/110M [00:00<?, ?B/s]"
            ],
            "application/vnd.jupyter.widget-view+json": {
              "version_major": 2,
              "version_minor": 0,
              "model_id": "a7a844df4bc94d5e89fb46fd79bed784"
            }
          },
          "metadata": {}
        }
      ]
    },
    {
      "cell_type": "code",
      "source": [
        "# Check for CUDA acceleration\n",
        "device = torch.device('cuda' if torch.cuda.is_available() else 'cpu')\n",
        "model.to(device);"
      ],
      "metadata": {
        "id": "XWwkwDQKSn2m"
      },
      "execution_count": 11,
      "outputs": []
    },
    {
      "cell_type": "code",
      "source": [
        "# Define the optimizer\n",
        "optimizer = AdamW(model.parameters(), lr=5e-5)\n",
        "\n",
        "# Define the learning rate scheduler\n",
        "num_epochs = 30\n",
        "num_training_steps = num_epochs * len(train_loader)\n",
        "lr_scheduler = get_scheduler(\n",
        "    \"linear\",\n",
        "    optimizer=optimizer,\n",
        "    num_warmup_steps=0,\n",
        "    num_training_steps=num_training_steps\n",
        ")\n",
        "\n",
        "# Placeholder for best mean IoU and best model weights\n",
        "best_iou = 0.0\n",
        "best_model_wts = copy.deepcopy(model.state_dict())\n",
        "\n",
        "for epoch in range(num_epochs):\n",
        "    model.train()\n",
        "    train_iterator = tqdm(train_loader, desc=f\"Epoch {epoch + 1}/{num_epochs}\", unit=\"batch\")\n",
        "    for batch in train_iterator:\n",
        "        images, masks = batch\n",
        "        images = images.to(device)\n",
        "        masks = masks.to(device).long()  # Ensure masks are LongTensors\n",
        "\n",
        "        # Remove the channel dimension from the masks tensor\n",
        "        masks = masks.squeeze(1)  # This changes the shape from [batch, 1, H, W] to [batch, H, W]\n",
        "        optimizer.zero_grad()\n",
        "\n",
        "        # Pass pixel_values and labels to the model\n",
        "        outputs = model(pixel_values=images, labels=masks,return_dict=True)\n",
        "\n",
        "        loss = outputs[\"loss\"]\n",
        "        loss.backward()\n",
        "\n",
        "        optimizer.step()\n",
        "        lr_scheduler.step()\n",
        "        outputs = F.interpolate(outputs[\"logits\"], size=masks.shape[-2:], mode=\"bilinear\", align_corners=False)\n",
        "\n",
        "        train_iterator.set_postfix(loss=loss.item())\n",
        "\n",
        "    # Evaluation loop for each epoch\n",
        "    model.eval()\n",
        "    total_iou = 0\n",
        "    num_batches = 0\n",
        "    valid_iterator = tqdm(valid_loader, desc=\"Validation\", unit=\"batch\")\n",
        "    for batch in valid_iterator:\n",
        "        images, masks = batch\n",
        "        images = images.to(device)\n",
        "        masks = masks.to(device).long()\n",
        "\n",
        "        with torch.no_grad():\n",
        "            # Get the logits from the model and apply argmax to get the predictions\n",
        "            outputs = model(pixel_values=images,return_dict=True)\n",
        "            outputs = F.interpolate(outputs[\"logits\"], size=masks.shape[-2:], mode=\"bilinear\", align_corners=False)\n",
        "            preds = torch.argmax(outputs, dim=1)\n",
        "            preds = torch.unsqueeze(preds, dim=1)\n",
        "\n",
        "        preds = preds.view(-1)\n",
        "        masks = masks.view(-1)\n",
        "\n",
        "        # Compute IoU\n",
        "        iou = mean_iou(preds, masks, model.config.num_labels)\n",
        "        total_iou += iou\n",
        "        num_batches += 1\n",
        "        valid_iterator.set_postfix(mean_iou=iou)\n",
        "\n",
        "    epoch_iou = total_iou / num_batches\n",
        "    print(f\"Epoch {epoch+1}/{num_epochs} - Mean IoU: {epoch_iou:.4f}\")\n",
        "\n",
        "    # Check for improvement\n",
        "    if epoch_iou > best_iou:\n",
        "        print(f\"Validation IoU improved from {best_iou:.4f} to {epoch_iou:.4f}\")\n",
        "        best_iou = epoch_iou\n",
        "        best_model_wts = copy.deepcopy(model.state_dict())\n",
        "        torch.save(best_model_wts, 'best_model.pth')\n",
        "\n",
        "# After all epochs, load the best model weights - optional\n",
        "model.load_state_dict(torch.load('best_model.pth'))\n",
        "print(\"Loaded the best model weights!\")"
      ],
      "metadata": {
        "colab": {
          "base_uri": "https://localhost:8080/"
        },
        "id": "M-1YskyeSonm",
        "outputId": "5e01bdb3-0775-4403-b915-3a43e3f42ac4"
      },
      "execution_count": null,
      "outputs": [
        {
          "output_type": "stream",
          "name": "stderr",
          "text": [
            "\rEpoch 1/30:   0%|          | 0/1750 [00:00<?, ?batch/s]/usr/lib/python3.10/multiprocessing/popen_fork.py:66: RuntimeWarning: os.fork() was called. os.fork() is incompatible with multithreaded code, and JAX is multithreaded, so this will likely lead to a deadlock.\n",
            "  self.pid = os.fork()\n",
            "Epoch 1/30: 100%|██████████| 1750/1750 [24:08<00:00,  1.21batch/s, loss=0.0633]\n",
            "Validation: 100%|██████████| 250/250 [02:23<00:00,  1.74batch/s, mean_iou=0.538]\n"
          ]
        },
        {
          "output_type": "stream",
          "name": "stdout",
          "text": [
            "Epoch 1/30 - Mean IoU: 0.5648\n",
            "Validation IoU improved from 0.0000 to 0.5648\n"
          ]
        },
        {
          "output_type": "stream",
          "name": "stderr",
          "text": [
            "\rEpoch 2/30:   0%|          | 0/1750 [00:00<?, ?batch/s]/usr/local/lib/python3.10/dist-packages/torch/utils/data/dataloader.py:558: UserWarning: This DataLoader will create 6 worker processes in total. Our suggested max number of worker in current system is 2, which is smaller than what this DataLoader is going to create. Please be aware that excessive worker creation might get DataLoader running slow or even freeze, lower the worker number to avoid potential slowness/freeze if necessary.\n",
            "  warnings.warn(_create_warning_msg(\n",
            "/usr/lib/python3.10/multiprocessing/popen_fork.py:66: RuntimeWarning: os.fork() was called. os.fork() is incompatible with multithreaded code, and JAX is multithreaded, so this will likely lead to a deadlock.\n",
            "  self.pid = os.fork()\n",
            "Epoch 2/30:  87%|████████▋ | 1524/1750 [21:00<03:07,  1.20batch/s, loss=0.0411]"
          ]
        }
      ]
    }
  ]
}